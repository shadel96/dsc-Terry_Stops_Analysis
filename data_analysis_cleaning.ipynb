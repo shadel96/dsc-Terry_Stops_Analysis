{
 "cells": [
  {
   "cell_type": "code",
   "execution_count": 1,
   "metadata": {},
   "outputs": [],
   "source": [
    "import numpy as np\n",
    "import pandas as pd\n",
    "import matplotlib.pyplot as plt\n",
    "import seaborn as sns"
   ]
  },
  {
   "cell_type": "code",
   "execution_count": 2,
   "metadata": {},
   "outputs": [
    {
     "data": {
      "text/html": [
       "<div>\n",
       "<style scoped>\n",
       "    .dataframe tbody tr th:only-of-type {\n",
       "        vertical-align: middle;\n",
       "    }\n",
       "\n",
       "    .dataframe tbody tr th {\n",
       "        vertical-align: top;\n",
       "    }\n",
       "\n",
       "    .dataframe thead th {\n",
       "        text-align: right;\n",
       "    }\n",
       "</style>\n",
       "<table border=\"1\" class=\"dataframe\">\n",
       "  <thead>\n",
       "    <tr style=\"text-align: right;\">\n",
       "      <th></th>\n",
       "      <th>Subject Age Group</th>\n",
       "      <th>Subject ID</th>\n",
       "      <th>GO / SC Num</th>\n",
       "      <th>Terry Stop ID</th>\n",
       "      <th>Stop Resolution</th>\n",
       "      <th>Weapon Type</th>\n",
       "      <th>Officer ID</th>\n",
       "      <th>Officer YOB</th>\n",
       "      <th>Officer Gender</th>\n",
       "      <th>Officer Race</th>\n",
       "      <th>...</th>\n",
       "      <th>Reported Time</th>\n",
       "      <th>Initial Call Type</th>\n",
       "      <th>Final Call Type</th>\n",
       "      <th>Call Type</th>\n",
       "      <th>Officer Squad</th>\n",
       "      <th>Arrest Flag</th>\n",
       "      <th>Frisk Flag</th>\n",
       "      <th>Precinct</th>\n",
       "      <th>Sector</th>\n",
       "      <th>Beat</th>\n",
       "    </tr>\n",
       "  </thead>\n",
       "  <tbody>\n",
       "    <tr>\n",
       "      <th>0</th>\n",
       "      <td>-</td>\n",
       "      <td>-1</td>\n",
       "      <td>20140000120677</td>\n",
       "      <td>92317</td>\n",
       "      <td>Arrest</td>\n",
       "      <td>None</td>\n",
       "      <td>7500</td>\n",
       "      <td>1984</td>\n",
       "      <td>M</td>\n",
       "      <td>Black or African American</td>\n",
       "      <td>...</td>\n",
       "      <td>11:32:00.0000000</td>\n",
       "      <td>-</td>\n",
       "      <td>-</td>\n",
       "      <td>-</td>\n",
       "      <td>SOUTH PCT 1ST W - ROBERT</td>\n",
       "      <td>N</td>\n",
       "      <td>N</td>\n",
       "      <td>South</td>\n",
       "      <td>O</td>\n",
       "      <td>O2</td>\n",
       "    </tr>\n",
       "    <tr>\n",
       "      <th>1</th>\n",
       "      <td>-</td>\n",
       "      <td>-1</td>\n",
       "      <td>20150000001463</td>\n",
       "      <td>28806</td>\n",
       "      <td>Field Contact</td>\n",
       "      <td>None</td>\n",
       "      <td>5670</td>\n",
       "      <td>1965</td>\n",
       "      <td>M</td>\n",
       "      <td>White</td>\n",
       "      <td>...</td>\n",
       "      <td>07:59:00.0000000</td>\n",
       "      <td>-</td>\n",
       "      <td>-</td>\n",
       "      <td>-</td>\n",
       "      <td>NaN</td>\n",
       "      <td>N</td>\n",
       "      <td>N</td>\n",
       "      <td>-</td>\n",
       "      <td>-</td>\n",
       "      <td>-</td>\n",
       "    </tr>\n",
       "    <tr>\n",
       "      <th>2</th>\n",
       "      <td>-</td>\n",
       "      <td>-1</td>\n",
       "      <td>20150000001516</td>\n",
       "      <td>29599</td>\n",
       "      <td>Field Contact</td>\n",
       "      <td>None</td>\n",
       "      <td>4844</td>\n",
       "      <td>1961</td>\n",
       "      <td>M</td>\n",
       "      <td>White</td>\n",
       "      <td>...</td>\n",
       "      <td>19:12:00.0000000</td>\n",
       "      <td>-</td>\n",
       "      <td>-</td>\n",
       "      <td>-</td>\n",
       "      <td>NaN</td>\n",
       "      <td>N</td>\n",
       "      <td>-</td>\n",
       "      <td>-</td>\n",
       "      <td>-</td>\n",
       "      <td>-</td>\n",
       "    </tr>\n",
       "    <tr>\n",
       "      <th>3</th>\n",
       "      <td>-</td>\n",
       "      <td>-1</td>\n",
       "      <td>20150000001670</td>\n",
       "      <td>32260</td>\n",
       "      <td>Field Contact</td>\n",
       "      <td>None</td>\n",
       "      <td>7539</td>\n",
       "      <td>1963</td>\n",
       "      <td>M</td>\n",
       "      <td>White</td>\n",
       "      <td>...</td>\n",
       "      <td>04:55:00.0000000</td>\n",
       "      <td>-</td>\n",
       "      <td>-</td>\n",
       "      <td>-</td>\n",
       "      <td>NaN</td>\n",
       "      <td>N</td>\n",
       "      <td>N</td>\n",
       "      <td>-</td>\n",
       "      <td>-</td>\n",
       "      <td>-</td>\n",
       "    </tr>\n",
       "    <tr>\n",
       "      <th>4</th>\n",
       "      <td>-</td>\n",
       "      <td>-1</td>\n",
       "      <td>20150000001739</td>\n",
       "      <td>33155</td>\n",
       "      <td>Field Contact</td>\n",
       "      <td>None</td>\n",
       "      <td>6973</td>\n",
       "      <td>1977</td>\n",
       "      <td>M</td>\n",
       "      <td>White</td>\n",
       "      <td>...</td>\n",
       "      <td>00:41:00.0000000</td>\n",
       "      <td>-</td>\n",
       "      <td>-</td>\n",
       "      <td>-</td>\n",
       "      <td>NaN</td>\n",
       "      <td>N</td>\n",
       "      <td>N</td>\n",
       "      <td>-</td>\n",
       "      <td>-</td>\n",
       "      <td>-</td>\n",
       "    </tr>\n",
       "  </tbody>\n",
       "</table>\n",
       "<p>5 rows × 23 columns</p>\n",
       "</div>"
      ],
      "text/plain": [
       "  Subject Age Group  Subject ID     GO / SC Num  Terry Stop ID  \\\n",
       "0                 -          -1  20140000120677          92317   \n",
       "1                 -          -1  20150000001463          28806   \n",
       "2                 -          -1  20150000001516          29599   \n",
       "3                 -          -1  20150000001670          32260   \n",
       "4                 -          -1  20150000001739          33155   \n",
       "\n",
       "  Stop Resolution Weapon Type Officer ID  Officer YOB Officer Gender  \\\n",
       "0          Arrest        None       7500         1984              M   \n",
       "1   Field Contact        None       5670         1965              M   \n",
       "2   Field Contact        None       4844         1961              M   \n",
       "3   Field Contact        None       7539         1963              M   \n",
       "4   Field Contact        None       6973         1977              M   \n",
       "\n",
       "                Officer Race  ...     Reported Time Initial Call Type  \\\n",
       "0  Black or African American  ...  11:32:00.0000000                 -   \n",
       "1                      White  ...  07:59:00.0000000                 -   \n",
       "2                      White  ...  19:12:00.0000000                 -   \n",
       "3                      White  ...  04:55:00.0000000                 -   \n",
       "4                      White  ...  00:41:00.0000000                 -   \n",
       "\n",
       "  Final Call Type Call Type             Officer Squad Arrest Flag Frisk Flag  \\\n",
       "0               -         -  SOUTH PCT 1ST W - ROBERT           N          N   \n",
       "1               -         -                       NaN           N          N   \n",
       "2               -         -                       NaN           N          -   \n",
       "3               -         -                       NaN           N          N   \n",
       "4               -         -                       NaN           N          N   \n",
       "\n",
       "  Precinct Sector Beat  \n",
       "0    South      O   O2  \n",
       "1        -      -    -  \n",
       "2        -      -    -  \n",
       "3        -      -    -  \n",
       "4        -      -    -  \n",
       "\n",
       "[5 rows x 23 columns]"
      ]
     },
     "execution_count": 2,
     "metadata": {},
     "output_type": "execute_result"
    }
   ],
   "source": [
    "data = pd.read_csv('data/Terry_Stops.csv')\n",
    "\n",
    "data.head()"
   ]
  },
  {
   "cell_type": "code",
   "execution_count": 3,
   "metadata": {},
   "outputs": [
    {
     "name": "stdout",
     "output_type": "stream",
     "text": [
      "<class 'pandas.core.frame.DataFrame'>\n",
      "RangeIndex: 52107 entries, 0 to 52106\n",
      "Data columns (total 23 columns):\n",
      " #   Column                    Non-Null Count  Dtype \n",
      "---  ------                    --------------  ----- \n",
      " 0   Subject Age Group         52107 non-null  object\n",
      " 1   Subject ID                52107 non-null  int64 \n",
      " 2   GO / SC Num               52107 non-null  int64 \n",
      " 3   Terry Stop ID             52107 non-null  int64 \n",
      " 4   Stop Resolution           52107 non-null  object\n",
      " 5   Weapon Type               52107 non-null  object\n",
      " 6   Officer ID                52107 non-null  object\n",
      " 7   Officer YOB               52107 non-null  int64 \n",
      " 8   Officer Gender            52107 non-null  object\n",
      " 9   Officer Race              52107 non-null  object\n",
      " 10  Subject Perceived Race    52107 non-null  object\n",
      " 11  Subject Perceived Gender  52107 non-null  object\n",
      " 12  Reported Date             52107 non-null  object\n",
      " 13  Reported Time             52107 non-null  object\n",
      " 14  Initial Call Type         52107 non-null  object\n",
      " 15  Final Call Type           52107 non-null  object\n",
      " 16  Call Type                 52107 non-null  object\n",
      " 17  Officer Squad             51621 non-null  object\n",
      " 18  Arrest Flag               52107 non-null  object\n",
      " 19  Frisk Flag                52107 non-null  object\n",
      " 20  Precinct                  52107 non-null  object\n",
      " 21  Sector                    52107 non-null  object\n",
      " 22  Beat                      52107 non-null  object\n",
      "dtypes: int64(4), object(19)\n",
      "memory usage: 9.1+ MB\n"
     ]
    }
   ],
   "source": [
    "#look at data for dtypes and null values, cleaning\n",
    "\n",
    "data.info()"
   ]
  },
  {
   "cell_type": "code",
   "execution_count": 4,
   "metadata": {},
   "outputs": [],
   "source": [
    "#all columns seem to match up except for one, shown more clearly below"
   ]
  },
  {
   "cell_type": "code",
   "execution_count": 5,
   "metadata": {},
   "outputs": [
    {
     "data": {
      "text/plain": [
       "Subject Age Group             0\n",
       "Subject ID                    0\n",
       "GO / SC Num                   0\n",
       "Terry Stop ID                 0\n",
       "Stop Resolution               0\n",
       "Weapon Type                   0\n",
       "Officer ID                    0\n",
       "Officer YOB                   0\n",
       "Officer Gender                0\n",
       "Officer Race                  0\n",
       "Subject Perceived Race        0\n",
       "Subject Perceived Gender      0\n",
       "Reported Date                 0\n",
       "Reported Time                 0\n",
       "Initial Call Type             0\n",
       "Final Call Type               0\n",
       "Call Type                     0\n",
       "Officer Squad               486\n",
       "Arrest Flag                   0\n",
       "Frisk Flag                    0\n",
       "Precinct                      0\n",
       "Sector                        0\n",
       "Beat                          0\n",
       "dtype: int64"
      ]
     },
     "execution_count": 5,
     "metadata": {},
     "output_type": "execute_result"
    }
   ],
   "source": [
    "data.isnull().sum()"
   ]
  },
  {
   "cell_type": "code",
   "execution_count": 6,
   "metadata": {},
   "outputs": [],
   "source": [
    "#officer squad has null values"
   ]
  },
  {
   "cell_type": "code",
   "execution_count": 7,
   "metadata": {},
   "outputs": [
    {
     "data": {
      "text/plain": [
       "TRAINING - FIELD TRAINING SQUAD           5532\n",
       "WEST PCT 1ST W - DAVID/MARY               1664\n",
       "SOUTHWEST PCT 2ND W - FRANK               1129\n",
       "WEST PCT 2ND W - D/M RELIEF               1098\n",
       "WEST PCT 1ST W - KING/QUEEN               1013\n",
       "                                          ... \n",
       "BURG/THEFT/JUV - WEST                        1\n",
       "TRAINING - ADVANCED - SQUAD C                1\n",
       "FORENSICS - CRIME SCENE INVESTIGATIONS       1\n",
       "TRAF - MOTORCYCLE - T2 SQUAD                 1\n",
       "TRAF - MOTORCYCLE UNIT - T2 SQUAD            1\n",
       "Name: Officer Squad, Length: 184, dtype: int64"
      ]
     },
     "execution_count": 7,
     "metadata": {},
     "output_type": "execute_result"
    }
   ],
   "source": [
    "data['Officer Squad'].value_counts()"
   ]
  },
  {
   "cell_type": "code",
   "execution_count": 8,
   "metadata": {},
   "outputs": [],
   "source": [
    "#this data not relevant to current objective anyway\n",
    "\n",
    "data_nulls_removed = data.drop(['Officer Squad'], axis=1)\n",
    "\n",
    "#now check other columns for things to drop"
   ]
  },
  {
   "cell_type": "markdown",
   "metadata": {},
   "source": [
    "The page on data.seattle.gov lists descriptions for each column as the following:\n",
    "\n",
    "###### Subject Age Group\t\n",
    "Subject Age Group (10 year increments) as reported by the officer.\n",
    "###### Subject ID\t\n",
    "Key, generated daily, identifying unique subjects in the dataset using a character to character match of first name and last name. \"Null\" values indicate an \"anonymous\" or \"unidentified\" subject. Subjects of a Terry Stop are not required to present identification.\n",
    "###### GO / SC Num\n",
    "General Offense or Street Check number, relating the Terry Stop to the parent report. This field may have a one to many relationship in the data.\n",
    "###### Terry Stop ID\t\n",
    "Key identifying unique Terry Stop reports.\n",
    "###### Stop Resolution\t\n",
    "Resolution of the stop as reported by the officer.\n",
    "###### Weapon Type\t\n",
    "Type of weapon, if any, identified during a search or frisk of the subject. Indicates \"None\" if no weapons was found.\n",
    "###### Officer ID\t\n",
    "Key identifying unique officers in the dataset.\n",
    "###### Officer YOB\t\n",
    "Year of birth, as reported by the officer.\n",
    "###### Officer Gender\t\n",
    "Gender of the officer, as reported by the officer.\n",
    "###### Officer Race\t\n",
    "Race of the officer, as reported by the officer.\n",
    "###### Subject Perceived Race\t\n",
    "Perceived race of the subject, as reported by the officer.\n",
    "###### Subject Perceived Gender\t\n",
    "Perceived gender of the subject, as reported by the officer.\n",
    "###### Reported Date\t\n",
    "Date the report was filed in the Records Management System (RMS). Not necessarily the date the stop occurred but generally within 1 day.\n",
    "###### Date & Time\n",
    "Reported Time\t\n",
    "Time the stop was reported in the Records Management System (RMS). Not the time the stop occurred but generally within 10 hours.\n",
    "###### Initial Call Type\t\n",
    "Initial classification of the call as assigned by 911.\n",
    "###### Final Call Type\t\n",
    "Final classification of the call as assigned by the primary officer closing the event.\n",
    "###### Call Type\t\n",
    "How the call was received by the communication center.\n",
    "###### Officer Squad\t\n",
    "Functional squad assignment (not budget) of the officer as reported by the Data Analytics Platform (DAP).\n",
    "###### Arrest Flag\t\n",
    "Indicator of whether a \"physical arrest\" was made, of the subject, during the Terry Stop. Does not necessarily reflect a report of an arrest in the Records Management System (RMS).\n",
    "###### Frisk Flag\t\n",
    "Indicator of whether a \"frisk\" was conducted, by the officer, of the subject, during the Terry Stop.\n",
    "###### Precinct\t\n",
    "Precinct of the address associated with the underlying Computer Aided Dispatch (CAD) event. Not necessarily where the Terry Stop occurred.\n",
    "###### Sector\t\n",
    "Sector of the address associated with the underlying Computer Aided Dispatch (CAD) event. Not necessarily where the Terry Stop occurred.\n",
    "###### Beat\t\n",
    "Beat of the address associated with the underlying Computer Aided Dispatch (CAD) event. Not necessarily where the Terry Stop occurred."
   ]
  },
  {
   "cell_type": "markdown",
   "metadata": {},
   "source": [
    "Reported Time does not apply to this study, and Reported Date will be used with Officer YOB to create a new column, the approximate Officer Age.\n",
    "\n",
    "ID numbers arent useful for creating a data model.\n",
    "\n",
    "Likewise, the Precinct, Sector, and Beat information are not significant to this study. Future examinations could of course use this data to examine how individual precincts or sectors engage in racial or gender bias in Terry Stops.\n",
    "\n",
    "Stop Resolution Contains information that could be redundant, since we already have information on whether the subject was frisked and/or arrested.\n",
    "\n"
   ]
  },
  {
   "cell_type": "code",
   "execution_count": 55,
   "metadata": {
    "scrolled": false
   },
   "outputs": [],
   "source": [
    "data_nulls_removed['Reported_Year'] = data_nulls_removed['Reported Date'].str[:4].astype(int)\n",
    "data_nulls_removed['Officer_Age'] = data_nulls_removed['Reported_Year']-data_nulls_removed['Officer YOB']\n",
    "\n",
    "drop_list = ['Reported Date', 'Officer YOB','Subject ID', 'Terry Stop ID', 'Officer ID',  'GO / SC Num', 'Precinct', 'Sector', \n",
    "             'Beat', 'Stop Resolution', 'Reported Time']\n",
    "\n",
    "df = data_nulls_removed.drop(drop_list, axis=1)"
   ]
  },
  {
   "cell_type": "code",
   "execution_count": 56,
   "metadata": {},
   "outputs": [
    {
     "data": {
      "text/html": [
       "<div>\n",
       "<style scoped>\n",
       "    .dataframe tbody tr th:only-of-type {\n",
       "        vertical-align: middle;\n",
       "    }\n",
       "\n",
       "    .dataframe tbody tr th {\n",
       "        vertical-align: top;\n",
       "    }\n",
       "\n",
       "    .dataframe thead th {\n",
       "        text-align: right;\n",
       "    }\n",
       "</style>\n",
       "<table border=\"1\" class=\"dataframe\">\n",
       "  <thead>\n",
       "    <tr style=\"text-align: right;\">\n",
       "      <th></th>\n",
       "      <th>Subject_Age_Group</th>\n",
       "      <th>Weapon_Type</th>\n",
       "      <th>Officer_Gender</th>\n",
       "      <th>Officer_Race</th>\n",
       "      <th>Subject_Perceived_Race</th>\n",
       "      <th>Subject_Perceived_Gender</th>\n",
       "      <th>Initial_Call_Type</th>\n",
       "      <th>Final_Call_Type</th>\n",
       "      <th>Call_Type</th>\n",
       "      <th>Arrest_Flag</th>\n",
       "      <th>Frisk_Flag</th>\n",
       "      <th>Reported_Year</th>\n",
       "      <th>Officer_Age</th>\n",
       "    </tr>\n",
       "  </thead>\n",
       "  <tbody>\n",
       "    <tr>\n",
       "      <th>0</th>\n",
       "      <td>-</td>\n",
       "      <td>None</td>\n",
       "      <td>M</td>\n",
       "      <td>Black or African American</td>\n",
       "      <td>Asian</td>\n",
       "      <td>Male</td>\n",
       "      <td>-</td>\n",
       "      <td>-</td>\n",
       "      <td>-</td>\n",
       "      <td>N</td>\n",
       "      <td>N</td>\n",
       "      <td>2015</td>\n",
       "      <td>31</td>\n",
       "    </tr>\n",
       "    <tr>\n",
       "      <th>1</th>\n",
       "      <td>-</td>\n",
       "      <td>None</td>\n",
       "      <td>M</td>\n",
       "      <td>White</td>\n",
       "      <td>-</td>\n",
       "      <td>-</td>\n",
       "      <td>-</td>\n",
       "      <td>-</td>\n",
       "      <td>-</td>\n",
       "      <td>N</td>\n",
       "      <td>N</td>\n",
       "      <td>2015</td>\n",
       "      <td>50</td>\n",
       "    </tr>\n",
       "    <tr>\n",
       "      <th>2</th>\n",
       "      <td>-</td>\n",
       "      <td>None</td>\n",
       "      <td>M</td>\n",
       "      <td>White</td>\n",
       "      <td>White</td>\n",
       "      <td>Male</td>\n",
       "      <td>-</td>\n",
       "      <td>-</td>\n",
       "      <td>-</td>\n",
       "      <td>N</td>\n",
       "      <td>-</td>\n",
       "      <td>2015</td>\n",
       "      <td>54</td>\n",
       "    </tr>\n",
       "    <tr>\n",
       "      <th>3</th>\n",
       "      <td>-</td>\n",
       "      <td>None</td>\n",
       "      <td>M</td>\n",
       "      <td>White</td>\n",
       "      <td>-</td>\n",
       "      <td>-</td>\n",
       "      <td>-</td>\n",
       "      <td>-</td>\n",
       "      <td>-</td>\n",
       "      <td>N</td>\n",
       "      <td>N</td>\n",
       "      <td>2015</td>\n",
       "      <td>52</td>\n",
       "    </tr>\n",
       "    <tr>\n",
       "      <th>4</th>\n",
       "      <td>-</td>\n",
       "      <td>None</td>\n",
       "      <td>M</td>\n",
       "      <td>White</td>\n",
       "      <td>Black or African American</td>\n",
       "      <td>Male</td>\n",
       "      <td>-</td>\n",
       "      <td>-</td>\n",
       "      <td>-</td>\n",
       "      <td>N</td>\n",
       "      <td>N</td>\n",
       "      <td>2015</td>\n",
       "      <td>38</td>\n",
       "    </tr>\n",
       "  </tbody>\n",
       "</table>\n",
       "</div>"
      ],
      "text/plain": [
       "  Subject_Age_Group Weapon_Type Officer_Gender               Officer_Race  \\\n",
       "0                 -        None              M  Black or African American   \n",
       "1                 -        None              M                      White   \n",
       "2                 -        None              M                      White   \n",
       "3                 -        None              M                      White   \n",
       "4                 -        None              M                      White   \n",
       "\n",
       "      Subject_Perceived_Race Subject_Perceived_Gender Initial_Call_Type  \\\n",
       "0                      Asian                     Male                 -   \n",
       "1                          -                        -                 -   \n",
       "2                      White                     Male                 -   \n",
       "3                          -                        -                 -   \n",
       "4  Black or African American                     Male                 -   \n",
       "\n",
       "  Final_Call_Type Call_Type Arrest_Flag Frisk_Flag  Reported_Year  Officer_Age  \n",
       "0               -         -           N          N           2015           31  \n",
       "1               -         -           N          N           2015           50  \n",
       "2               -         -           N          -           2015           54  \n",
       "3               -         -           N          N           2015           52  \n",
       "4               -         -           N          N           2015           38  "
      ]
     },
     "execution_count": 56,
     "metadata": {},
     "output_type": "execute_result"
    }
   ],
   "source": [
    "df.columns = df.columns.str.replace(' ','_')\n",
    "df.head()"
   ]
  },
  {
   "cell_type": "code",
   "execution_count": 57,
   "metadata": {
    "scrolled": true
   },
   "outputs": [
    {
     "name": "stdout",
     "output_type": "stream",
     "text": [
      "<class 'pandas.core.frame.DataFrame'>\n",
      "RangeIndex: 52107 entries, 0 to 52106\n",
      "Data columns (total 13 columns):\n",
      " #   Column                    Non-Null Count  Dtype \n",
      "---  ------                    --------------  ----- \n",
      " 0   Subject_Age_Group         52107 non-null  object\n",
      " 1   Weapon_Type               52107 non-null  object\n",
      " 2   Officer_Gender            52107 non-null  object\n",
      " 3   Officer_Race              52107 non-null  object\n",
      " 4   Subject_Perceived_Race    52107 non-null  object\n",
      " 5   Subject_Perceived_Gender  52107 non-null  object\n",
      " 6   Initial_Call_Type         52107 non-null  object\n",
      " 7   Final_Call_Type           52107 non-null  object\n",
      " 8   Call_Type                 52107 non-null  object\n",
      " 9   Arrest_Flag               52107 non-null  object\n",
      " 10  Frisk_Flag                52107 non-null  object\n",
      " 11  Reported_Year             52107 non-null  int32 \n",
      " 12  Officer_Age               52107 non-null  int64 \n",
      "dtypes: int32(1), int64(1), object(11)\n",
      "memory usage: 5.0+ MB\n"
     ]
    }
   ],
   "source": [
    "df.info()"
   ]
  },
  {
   "cell_type": "markdown",
   "metadata": {},
   "source": [
    "We now observe what sort of data is in the columns that remain."
   ]
  },
  {
   "cell_type": "code",
   "execution_count": 58,
   "metadata": {
    "scrolled": false
   },
   "outputs": [
    {
     "data": {
      "text/plain": [
       "-                1765\n",
       "1 - 17           2057\n",
       "18 - 25         10272\n",
       "26 - 35         17400\n",
       "36 - 45         11225\n",
       "46 - 55          6703\n",
       "56 and Above     2685\n",
       "Name: Subject_Age_Group, dtype: int64"
      ]
     },
     "execution_count": 58,
     "metadata": {},
     "output_type": "execute_result"
    }
   ],
   "source": [
    "df['Subject_Age_Group'].value_counts().sort_index(ascending=True)"
   ]
  },
  {
   "cell_type": "code",
   "execution_count": 59,
   "metadata": {},
   "outputs": [
    {
     "data": {
      "text/plain": [
       "None                                    32565\n",
       "-                                       16377\n",
       "Lethal Cutting Instrument                1482\n",
       "Knife/Cutting/Stabbing Instrument         877\n",
       "Handgun                                   330\n",
       "Blunt Object/Striking Implement           116\n",
       "Firearm Other                             100\n",
       "Firearm                                    59\n",
       "Club, Blackjack, Brass Knuckles            49\n",
       "Mace/Pepper Spray                          40\n",
       "Other Firearm                              38\n",
       "Firearm (unk type)                         15\n",
       "Taser/Stun Gun                             12\n",
       "Fire/Incendiary Device                     11\n",
       "Club                                        9\n",
       "None/Not Applicable                         9\n",
       "Rifle                                       8\n",
       "Shotgun                                     4\n",
       "Automatic Handgun                           2\n",
       "Personal Weapons (hands, feet, etc.)        2\n",
       "Blackjack                                   1\n",
       "Brass Knuckles                              1\n",
       "Name: Weapon_Type, dtype: int64"
      ]
     },
     "execution_count": 59,
     "metadata": {},
     "output_type": "execute_result"
    }
   ],
   "source": [
    "df['Weapon_Type'].value_counts()"
   ]
  },
  {
   "cell_type": "markdown",
   "metadata": {},
   "source": [
    "For the sake of clarity, we will separate weapon data into whether or not a weapon was reported. The specific type of weapon is not significant to our analysis."
   ]
  },
  {
   "cell_type": "code",
   "execution_count": 60,
   "metadata": {
    "scrolled": true
   },
   "outputs": [
    {
     "name": "stderr",
     "output_type": "stream",
     "text": [
      "<ipython-input-60-62708d927e45>:10: SettingWithCopyWarning: \n",
      "A value is trying to be set on a copy of a slice from a DataFrame\n",
      "\n",
      "See the caveats in the documentation: https://pandas.pydata.org/pandas-docs/stable/user_guide/indexing.html#returning-a-view-versus-a-copy\n",
      "  df['Weapon_Reported'][df['Weapon_Type'] != 'No Weapon Reported'] = 'Weapon Reported'\n"
     ]
    },
    {
     "data": {
      "text/plain": [
       "None                                    32565\n",
       "-                                       16377\n",
       "Weapon Reported                          3154\n",
       "None/Not Applicable                         9\n",
       "Personal Weapons (hands, feet, etc.)        2\n",
       "Name: Weapon_Reported, dtype: int64"
      ]
     },
     "execution_count": 60,
     "metadata": {},
     "output_type": "execute_result"
    }
   ],
   "source": [
    "#separate weapon type data ################MESSSYYYYYYYYYYYYYYYYYYYYYYYYYYYY\n",
    "\n",
    "unarmed = ['None', '-', 'None/Not Applicable','Personal Weapons (hands, feet, etc.)']\n",
    "\n",
    "df['Weapon_Reported'] = df['Weapon_Type']\n",
    "\n",
    "df['Weapon_Type'].replace(unarmed, 'No Weapon Reported' , inplace=True)\n",
    "\n",
    "\n",
    "df['Weapon_Reported'][df['Weapon_Type'] != 'No Weapon Reported'] = 'Weapon Reported'\n",
    "\n",
    "df.drop(['Weapon_Type'], axis=1, inplace=True)\n",
    "\n",
    "df['Weapon_Reported'].value_counts()"
   ]
  },
  {
   "cell_type": "code",
   "execution_count": 61,
   "metadata": {},
   "outputs": [
    {
     "data": {
      "text/plain": [
       "M    46143\n",
       "F     5934\n",
       "N       30\n",
       "Name: Officer_Gender, dtype: int64"
      ]
     },
     "execution_count": 61,
     "metadata": {},
     "output_type": "execute_result"
    }
   ],
   "source": [
    "df['Officer_Gender'].value_counts()"
   ]
  },
  {
   "cell_type": "code",
   "execution_count": 62,
   "metadata": {},
   "outputs": [
    {
     "data": {
      "text/plain": [
       "White                            38419\n",
       "Hispanic or Latino                3146\n",
       "Two or More Races                 3068\n",
       "Asian                             2377\n",
       "Not Specified                     2172\n",
       "Black or African American         2081\n",
       "Nat Hawaiian/Oth Pac Islander      479\n",
       "American Indian/Alaska Native      329\n",
       "Unknown                             36\n",
       "Name: Officer_Race, dtype: int64"
      ]
     },
     "execution_count": 62,
     "metadata": {},
     "output_type": "execute_result"
    }
   ],
   "source": [
    "df['Officer_Race'].value_counts()"
   ]
  },
  {
   "cell_type": "code",
   "execution_count": 63,
   "metadata": {},
   "outputs": [
    {
     "data": {
      "text/plain": [
       "White                                        25490\n",
       "Black or African American                    15521\n",
       "Unknown                                       3337\n",
       "-                                             1809\n",
       "Asian                                         1738\n",
       "Hispanic                                      1684\n",
       "American Indian or Alaska Native              1476\n",
       "Multi-Racial                                   809\n",
       "Other                                          152\n",
       "Native Hawaiian or Other Pacific Islander       91\n",
       "Name: Subject_Perceived_Race, dtype: int64"
      ]
     },
     "execution_count": 63,
     "metadata": {},
     "output_type": "execute_result"
    }
   ],
   "source": [
    "df['Subject_Perceived_Race'].value_counts()"
   ]
  },
  {
   "cell_type": "code",
   "execution_count": 64,
   "metadata": {},
   "outputs": [
    {
     "data": {
      "text/plain": [
       "Male                                                         40997\n",
       "Female                                                       10470\n",
       "Unable to Determine                                            326\n",
       "-                                                              238\n",
       "Unknown                                                         60\n",
       "Gender Diverse (gender non-conforming and/or transgender)       16\n",
       "Name: Subject_Perceived_Gender, dtype: int64"
      ]
     },
     "execution_count": 64,
     "metadata": {},
     "output_type": "execute_result"
    }
   ],
   "source": [
    "df['Subject_Perceived_Gender'].value_counts()"
   ]
  },
  {
   "cell_type": "markdown",
   "metadata": {},
   "source": [
    "For the sake of this analysis, we will group together all perceived Genders that do not fall under the category of Male or Female into one value, using \"N\" to match the existing Officer Gender Data."
   ]
  },
  {
   "cell_type": "code",
   "execution_count": 65,
   "metadata": {},
   "outputs": [
    {
     "data": {
      "text/plain": [
       "M    40997\n",
       "F    10470\n",
       "N      640\n",
       "Name: Subject_Perceived_Gender, dtype: int64"
      ]
     },
     "execution_count": 65,
     "metadata": {},
     "output_type": "execute_result"
    }
   ],
   "source": [
    "n_gender = ['-', 'Unknown', 'Gender Diverse (gender non-conforming and/or transgender)', 'Unable to Determine']\n",
    "\n",
    "df['Subject_Perceived_Gender'].replace('Male', 'M' , inplace=True)\n",
    "df['Subject_Perceived_Gender'].replace('Female', 'F' , inplace=True)\n",
    "df['Subject_Perceived_Gender'].replace(n_gender, 'N' , inplace=True)\n",
    "\n",
    "df['Subject_Perceived_Gender'].value_counts()"
   ]
  },
  {
   "cell_type": "code",
   "execution_count": 66,
   "metadata": {
    "scrolled": true
   },
   "outputs": [
    {
     "data": {
      "text/plain": [
       "-                                                     13461\n",
       "SUSPICIOUS STOP - OFFICER INITIATED ONVIEW             3601\n",
       "SUSPICIOUS PERSON, VEHICLE OR INCIDENT                 3454\n",
       "DISTURBANCE, MISCELLANEOUS/OTHER                       2657\n",
       "ASLT - IP/JO - WITH OR W/O WPNS (NO SHOOTINGS)         2283\n",
       "TRESPASS                                               2094\n",
       "SHOPLIFT - THEFT                                       1577\n",
       "THEFT (DOES NOT INCLUDE SHOPLIFT OR SVCS)              1546\n",
       "FIGHT - IP - PHYSICAL (NO WEAPONS)                     1414\n",
       "WEAPN-IP/JO-GUN,DEADLY WPN (NO THRT/ASLT/DIST)         1260\n",
       "ROBBERY - IP/JO (INCLUDES STRONG ARM)                  1000\n",
       "BURG - IP/JO - RES (INCL UNOCC STRUCTURES)              974\n",
       "THREATS (INCLS IN-PERSON/BY PHONE/IN WRITING)           884\n",
       "AUTO RECOVERY                                           856\n",
       "NARCOTICS - VIOLATIONS (LOITER, USE, SELL, NARS)        805\n",
       "DIST - IP/JO - DV DIST - NO ASLT                        771\n",
       "PROPERTY - DAMAGE                                       770\n",
       "ASLT - IP/JO - DV                                       763\n",
       "TRAFFIC STOP - OFFICER INITIATED ONVIEW                 762\n",
       "BURG - IP/JO - COMM BURG (INCLUDES SCHOOLS)             663\n",
       "ASLT - WITH OR W/O WEAPONS (NO SHOOTINGS)               571\n",
       "ASLT - IP/JO - PERSON SHOT OR SHOT AT                   488\n",
       "WARRANT - FELONY PICKUP                                 459\n",
       "DIST - DV - NO ASLT                                     407\n",
       "NUISANCE - MISCHIEF                                     361\n",
       "DOWN - CHECK FOR PERSON DOWN                            344\n",
       "UNKNOWN - COMPLAINT OF UNKNOWN NATURE                   334\n",
       "ALARM - COMM, SILENT/AUD BURG (INCL BANKS)              305\n",
       "BURG - COMM BURGLARY (INCLUDES SCHOOLS)                 294\n",
       "PROWLER - IP/JO                                         293\n",
       "FIGHT - VERBAL/ORAL (NO WEAPONS)                        289\n",
       "SHOTS - IP/JO - INCLUDES HEARD/NO ASSAULT               283\n",
       "ROBBERY (INCLUDES STRONG ARM)                           253\n",
       "BURG - RES (INCL UNOCC STRUCTURES ON PROP)              246\n",
       "WEAPN - GUN,DEADLY WPN (NO THRTS/ASLT/DIST)             233\n",
       "FIGHT - IP/JO - WITH WEAPONS                            223\n",
       "SFD - ASSIST ON FIRE OR MEDIC RESPONSE                  204\n",
       "PERSON IN BEHAVIORAL/EMOTIONAL CRISIS                   201\n",
       "PREMISE CHECK, OFFICER INITIATED ONVIEW ONLY            184\n",
       "WARRANT - MISD WARRANT PICKUP                           175\n",
       "LEWD -  (EXPOSING, FLASHING)                            173\n",
       "DUI - DRIVING UNDER INFLUENCE                           173\n",
       "HAZ - POTENTIAL THRT TO PHYS SAFETY (NO HAZMAT)         166\n",
       "FIGHT - JO - PHYSICAL (NO WEAPONS)                      159\n",
       "MVC - HIT AND RUN (NON INJURY), INCLUDES IP/JO          157\n",
       "MVC - WITH INJURIES (INCLUDES HIT AND RUN)              149\n",
       "ASLT - DV                                               134\n",
       "SUICIDE - IP/JO SUICIDAL PERSON AND ATTEMPTS            127\n",
       "ASSIST OTHER AGENCY - ROUTINE SERVICE                   118\n",
       "ARSON - IP/JO                                           116\n",
       "FRAUD - FORGERY,BUNCO, SCAMS, ID THEFT, ETC             114\n",
       "UNKNOWN - ANI/ALI - WRLS PHNS (INCL OPEN LINE)          111\n",
       "BURN - RECKLESS BURNING                                 109\n",
       "ORDER - IP - VIOLATION OF DV COURT ORDER                106\n",
       "FOLLOW UP                                               105\n",
       "SEX IN PUBLIC PLACE/VIEW (INCL MASTURBATION)             97\n",
       "AUTO THEFT-IP/JO - VEHICLE, PLATES, TABS                 91\n",
       "SERVICE - WELFARE CHECK                                  84\n",
       "UNDERCOVER OPS, CAUTION (INCLUDES STAKEOUTS)             79\n",
       "AUTO THEFT - VEH THEFT OR THEFT & RECOVERY               77\n",
       "DOWN - CHECK FOR DOWN PERSON                             75\n",
       "THEFT OF SERVICES                                        75\n",
       "LIQUOR VIOLATIONS - ADULT                                66\n",
       "HARAS - NO BIAS, THREATS OR MALICIOUSNESS                65\n",
       "ORDER - VIOLATING DV COURT ORDER                         63\n",
       "MVC - REPORT, NON INJ/NON BLKG OR AFTER FACT INJ         58\n",
       "WARRANT - SEARCH. EXECUTED, SECURED                      55\n",
       "THREATS - DV - NO ASSAULT                                53\n",
       "OVERDOSE - DRUG RELATED CASUALTY                         53\n",
       "ASSIST PUBLIC - NO WELFARE CHK OR DV ORDER SERVICE       52\n",
       "UNKNOWN - ANI/ALI - LANDLINE (INCLUDES OPEN LINE)        48\n",
       "ASLT - MOLESTED ADULT (GROPED, FONDLED, ETC.)            47\n",
       "MVC - NON INJURY, BLOCKING                               47\n",
       "VICE - PROSTITUTION                                      43\n",
       "PROWLER                                                  43\n",
       "MVC - UNK INJURIES                                       43\n",
       "CHILD - IP/JO - ABAND, ABUSE, MOLEST, NEGLECT            41\n",
       "RAPE - IP/JO                                             39\n",
       "WARRANT - SEARCH. CAUTION (EXCL NARCOTICS)               34\n",
       "CARJACKING - IP/JO - ROBBERY                             34\n",
       "TRAFFIC - ROAD RAGE                                      32\n",
       "ASSIST OTHER AGENCY - EMERGENCY SERVICE                  32\n",
       "TRAFFIC - BLOCKING ROADWAY                               29\n",
       "RAPE                                                     28\n",
       "ORDER - VIOLATION OF COURT ORDER (NON DV)                27\n",
       "OPEN - BUILDING, DOOR, ETC.                              27\n",
       "TRAFFIC - MOVING VIOLATION                               26\n",
       "PURSE SNATCH - IP/JO - ROBBERY                           26\n",
       "ALARM - RESIDENTIAL - BURGLARY, SILENT/AUDIBLE           26\n",
       "PANHANDLING, AGGRESSIVE                                  25\n",
       "FOOT - ELUDING POLICE                                    25\n",
       "ARSON - REPORT                                           24\n",
       "BIAS -RACIAL, POLITICAL, SEXUAL MOTIVATION               21\n",
       "PEACE-STANDBY TO ASSURE (NO COURT ORDR SVC)              21\n",
       "CHILD - ABAND, ABUSED, MOLESTED, NEGLECTED               20\n",
       "LIQUOR VIOLATIONS - MINOR                                19\n",
       "ANIMAL - INJURED, DEAD HAZARD, OTHER                     18\n",
       "NOISE - DISTURBANCE (PARTY, ETC)                         18\n",
       "HAZ - IMMINENT THRT TO PHYS SAFETY (NO HAZ MAT)          18\n",
       "ALARM - BANK (HOLD-UP)                                   18\n",
       "NARCOTICS WARRANT SERVICE - EXECUTED, SECURED            18\n",
       "SHOTS -DELAY/INCLUDES HEARD/NO ASSAULT                   17\n",
       "ILLEGAL DUMPING                                          17\n",
       "TRAF - ELUDING POLICE                                    17\n",
       "NOISE - DIST, GENERAL (CONST, RESID, BALL PLAY)          16\n",
       "BOMB THREATS - IP/JO                                     16\n",
       "PEDESTRIAN VIOLATIONS                                    15\n",
       "PROPERTY - FOUND                                         14\n",
       "HELP THE OFFICER                                         13\n",
       "ASLT - PERSON SHOT OR SHOT AT                            12\n",
       "FIGHT - WITH WEAPONS                                     12\n",
       "PARKING VIOLATION (EXCEPT ABANDONED CAR)                 12\n",
       "FOUND - PERSON                                           12\n",
       "NARCOTICS WARRANT SERVICE                                11\n",
       "JUVENILE - RUNAWAY PICKUP                                11\n",
       "AUTO - THEFT/LOSS, PLATES AND/OR TAB                     11\n",
       "DIRECTED PATROL ACTIVITY                                 11\n",
       "DOA - CASUALTY, DEAD BODY                                10\n",
       "FIREWORKS - NUISANCE (NO HAZARD)                         10\n",
       "PURSE SNATCH - ROBBERY                                    9\n",
       "JUVENILE - RUNAWAY                                        9\n",
       "SUICIDE, SUICIDAL PERSON AND ATTEMPTS                     9\n",
       "NARCOTICS - FOUND                                         8\n",
       "CHILD - IP/JO - LURING                                    6\n",
       "-ASSIGNED DUTY - FOOT BEAT (FROM ASSIGNED CAR)            6\n",
       "ASSIST SPD - ROUTINE SERVICE                              6\n",
       "PARKS VIOLATIONS/CITES (INCLUDES EXCLUSIONS)              5\n",
       "SUSPICIOUS PACKAGE                                        5\n",
       "ALARM - COMM, HOLD-UP/PANIC (EXCEPT BANKS)                5\n",
       "MISSING - CHILD                                           4\n",
       "CHILD -  LURING                                           4\n",
       "URINATING, DEFECATING IN PUBLIC                           4\n",
       "TRU - THEFT                                               4\n",
       "TRACKING ALARM                                            4\n",
       "LICENSE INSPECTIONS (CHECK FOR)                           3\n",
       "SICK PERSON                                               3\n",
       "INJURED - IP/JO - PERSON/INDUSTRIAL ACCIDENT              3\n",
       "CARJACKING - ROBBERY                                      3\n",
       "EXPLOSION - IP/JO                                         3\n",
       "ALARM - AUDIBLE AUTOMOBILE (UNOCC/ANTI-THEFT)             3\n",
       "OFF DUTY EMPLOYMENT                                       3\n",
       "TRAFFIC - ASSIST MOTORIST                                 3\n",
       "AWOL - ADULT OR JUVENILE                                  2\n",
       "SLEEPER ABOARD BUS/COMMUTER TRAIN                         2\n",
       "DEMONSTRATIONS                                            2\n",
       "ORDER  - SERVICE OF DV COURT ORDER                        2\n",
       "KNOWN KIDNAPPNG                                           2\n",
       "ABDUCTION - IP/JO - UNK KIDNAPPING                        2\n",
       "LITTERING                                                 2\n",
       "ANIMAL - IP/JO - BITE                                     2\n",
       "GAMBLING                                                  2\n",
       "ASSIST SPD - URGENT SERVICE                               2\n",
       "PROPERTY - DAMAGE (GUN RELATED)                           2\n",
       "INJURED -  PERSON/INDUSTRIAL ACCIDENT                     1\n",
       "ALARM - ATM MACHINE, FREE STANDING                        1\n",
       "REQUEST TO WATCH                                          1\n",
       "VICE - PORNOGRAPHY                                        1\n",
       "UNKNOWN - ANI/ALI - PAY PHNS (INCL OPEN LINE)             1\n",
       "MISSING - ADULT                                           1\n",
       "PREPLANNED EVENT                                          1\n",
       "ALARM - RESIDENTIAL - SILENT/AUD PANIC/DURESS             1\n",
       "ESCAPE - PRISONER                                         1\n",
       "HARBOR - WATER EMERGENCIES                                1\n",
       "PROPERTY - FOUND GUN, SHELLCASINGS                        1\n",
       "ANIMAL, REPORT - BITE                                     1\n",
       "PHONE - OBSCENE OR NUISANCE PHONE CALLS                   1\n",
       "-ASSIGNED DUTY - STAKEOUT                                 1\n",
       "ORDER - ASSIST DV VIC W/SRVC OF COURT ORDER               1\n",
       "MISSING - (ALZHEIMER, ENDANGERED, ELDERLY)                1\n",
       "WARRANT PICKUP - FROM OTHER AGENCY                        1\n",
       "Name: Initial_Call_Type, dtype: int64"
      ]
     },
     "execution_count": 66,
     "metadata": {},
     "output_type": "execute_result"
    }
   ],
   "source": [
    "pd.set_option(\"display.max_rows\", None)\n",
    "df['Initial_Call_Type'].value_counts()"
   ]
  },
  {
   "cell_type": "code",
   "execution_count": 67,
   "metadata": {
    "scrolled": true
   },
   "outputs": [
    {
     "data": {
      "text/plain": [
       "-                                                     13461\n",
       "--SUSPICIOUS CIRCUM. - SUSPICIOUS PERSON               4404\n",
       "--PROWLER - TRESPASS                                   3600\n",
       "--DISTURBANCE - OTHER                                  2979\n",
       "--ASSAULTS, OTHER                                      2536\n",
       "--WARRANT SERVICES - FELONY                            1798\n",
       "--THEFT - SHOPLIFT                                     1427\n",
       "--DV - ARGUMENTS, DISTURBANCE (NO ARREST)              1424\n",
       "--DV - DOMESTIC VIOL/ASLT (ARREST MANDATORY)           1317\n",
       "--ASSAULTS - HARASSMENT, THREATS                       1186\n",
       "--SUSPICIOUS CIRCUM. - SUSPICIOUS VEHICLE              1148\n",
       "--WARRANT SERVICES - MISDEMEANOR                       1084\n",
       "--NARCOTICS - OTHER                                    1027\n",
       "--CRISIS COMPLAINT - GENERAL                            982\n",
       "--THEFT - ALL OTHER                                     875\n",
       "--PROPERTY DEST (DAMG)                                  819\n",
       "--BURGLARY - NON RESIDENTIAL/COMMERCIAL                 690\n",
       "--ROBBERY - STRONG ARM                                  681\n",
       "--AUTOMOBILES - RECOVERY (THEFT)                        677\n",
       "--TRAFFIC - D.U.I.                                      629\n",
       "--DISTURBANCE - FIGHT                                   564\n",
       "--THEFT - CAR PROWL                                     546\n",
       "--WEAPON, PERSON WITH - GUN                             541\n",
       "--ROBBERY - ARMED                                       529\n",
       "--WEAPON,PERSON WITH - OTHER WEAPON                     455\n",
       "--BURGLARY - RESIDENTIAL OCCUPIED                       413\n",
       "--TRAFFIC - MOVING VIOLATION                            314\n",
       "--ASSAULTS - FIREARM INVOLVED                           306\n",
       "--DV - ENFORCE COURT ORDER (ARREST MANDATED)            269\n",
       "--BURGLARY - RESIDENTIAL, UNOCCUPIED                    262\n",
       "--DV - DOMESTIC VIOLENCE (ARREST DISCRETIONARY)         216\n",
       "--AUTOMOBILES - AUTO THEFT & RECOVERY                   192\n",
       "--TRAFFIC - MV COLLISION INVESTIGATION                  191\n",
       "--SEX OFFENSES (NON-RAPE) - LEWD CONDUCT                189\n",
       "--MISCHIEF OR NUISANCE - GENERAL                        181\n",
       "--PROPERTY DEST (DAMG) - GRAFFITI (INCLUDES GANG)       179\n",
       "--ARSON, BOMBS, EXPLO - RECKLESS BURNING                142\n",
       "--BURGLARY - UNOCC STRUC ON RESN PROP                   135\n",
       "--NARCOTICS - NARS REPORT                               131\n",
       "--PROWLER - GENERAL                                     128\n",
       "--VICE - PROSTITUTION                                   115\n",
       "--ASSIST PUBLIC - OTHER (NON-SPECIFIED)                 114\n",
       "--AUTOMOBILES - AUTO THEFT                              108\n",
       "--SUSPICIOUS CIRCUM. - BUILDING (OPEN DOOR, ETC)        108\n",
       "--ASSIST OTHER AGENCY - CITY AGENCY                      95\n",
       "SUSPICIOUS STOP - OFFICER INITIATED ONVIEW               94\n",
       "--THEFT - BICYCLE                                        94\n",
       "SUSPICIOUS PERSON, VEHICLE OR INCIDENT                   86\n",
       "TRESPASS                                                 82\n",
       "--NARCOTICS - NARCOTICS WARRANT SERVICE                  81\n",
       "--NARCOTICS - DRUG TRAFFIC LOITERING                     79\n",
       "--DRIVE BY SHOOTING - NO INJURIES                        78\n",
       "--FRAUD - FRAUD, INCLUDING BUNCO                         77\n",
       "--ALARM-COMM (INC BANK, ATM, SCHOOLS, BSN)               66\n",
       "--ASSIST OTHER AGENCY - COUNTY AGENCY                    61\n",
       "--NARCOTICS - FOUND , RECOVERED NARCOTICS                60\n",
       "--MISC MISD AND VIOLS - RECKLESS ENDANGERMENT            59\n",
       "--FRAUD - FORGERY, BAD CHECKS                            57\n",
       "--PROPERTY - FOUND PROPERTY                              57\n",
       "--ASSIST OTHER AGENCY - STATE AGENCY                     53\n",
       "--PREMISE CHECKS - CRIME PREVENTION                      53\n",
       "--HOMICIDE                                               51\n",
       "--ARSON, BOMBS, EXPLO - ARSON                            51\n",
       "--DISTURBANCE - NOISE                                    43\n",
       "ASLT - IP/JO - WITH OR W/O WPNS (NO SHOOTINGS)           43\n",
       "SHOPLIFT - THEFT                                         42\n",
       "DISTURBANCE, MISCELLANEOUS/OTHER                         42\n",
       "THEFT (DOES NOT INCLUDE SHOPLIFT OR SVCS)                42\n",
       "--AUTOMOBILES - LICENSE PLATE(S) THEFT OR LOSS           41\n",
       "--RAPE - KNOWN SUSPECT (ACQUAINTANCE)                    39\n",
       "--INTOX & LIQ VIOLS - ADULTS (VIOLATIONS)                38\n",
       "--THEFT - AUTO ACCESSORIES                               36\n",
       "--DV - ASSIST VICTIM BY COURT ORDER                      33\n",
       "--TRAFFIC - REFUSE TO STOP (PURSUIT)                     32\n",
       "NARCOTICS - VIOLATIONS (LOITER, USE, SELL, NARS)         32\n",
       "FIGHT - IP - PHYSICAL (NO WEAPONS)                       31\n",
       "THREATS (INCLS IN-PERSON/BY PHONE/IN WRITING)            29\n",
       "--PROWLER - TRESPASS, PARKS EXCLUSION                    29\n",
       "--HAZARDS - HAZARDS                                      28\n",
       "--NARCOTICS - MARIJUANA PUBLIC USE(NOT DISPENSARY)       28\n",
       "--CHILD - ABANDONED, ABUSED AND NEGLECTED                26\n",
       "BURG - IP/JO - RES (INCL UNOCC STRUCTURES)               26\n",
       "TRAFFIC STOP - OFFICER INITIATED ONVIEW                  26\n",
       "AUTO RECOVERY                                            25\n",
       "ROBBERY - IP/JO (INCLUDES STRONG ARM)                    24\n",
       "--DISTURBANCE - JUVENILE                                 24\n",
       "--RAPE - UNKNOWN SUSPECT (STRANGER)                      24\n",
       "--PERSON - FOUND PERSON                                  24\n",
       "--KIDNAP - GENERAL                                       23\n",
       "--CHILD - CHILD ENDANGERMENT                             23\n",
       "BURG - IP/JO - COMM BURG (INCLUDES SCHOOLS)              23\n",
       "--SEX OFFENSES (RAPE) - MOLESTING                        23\n",
       "--PERSON - RUNAWAY                                       22\n",
       "--TRAFFIC - PEDESTRIAN VIOLATION                         22\n",
       "-PRISONER ESCORT - BUSY CODE                             21\n",
       "--TRAFFIC - BLOCKING TRAFFIC                             21\n",
       "PROPERTY - DAMAGE                                        20\n",
       "--INTOX & LIQ VIOLS - MINORS (VIOLATIONS)                20\n",
       "--DV - DOMESTIC THREATS BY PHONE OR WRITING              19\n",
       "ASLT - IP/JO - PERSON SHOT OR SHOT AT                    19\n",
       "--TRAFFIC - PARKING VIOL (EXCEPT ABANDONED CAR)          19\n",
       "--DV - SERVICE OF COURT ORDER                            18\n",
       "WEAPN-IP/JO-GUN,DEADLY WPN (NO THRT/ASLT/DIST)           18\n",
       "ASLT - IP/JO - DV                                        17\n",
       "BURG - COMM BURGLARY (INCLUDES SCHOOLS)                  16\n",
       "--TRAFFIC - ASSIST MOTORIST                              16\n",
       "WARRANT - FELONY PICKUP                                  14\n",
       "--ANIMAL COMPLAINT - INJURED,DEAD,DANGEROUS              14\n",
       "--ALARM-RESIDENTIAL BURG                                 14\n",
       "DIST - IP/JO - DV DIST - NO ASLT                         14\n",
       "--DISTURBANCE - NOISE RESIDENTIAL                        13\n",
       "--INTOX & LIQ VIOLS - INTOXICATED PERSON                 13\n",
       "DIST - DV - NO ASLT                                      12\n",
       "ASLT - WITH OR W/O WEAPONS (NO SHOOTINGS)                11\n",
       "--CASUALTY NON-TRAF NON-CRIM - DRUG RELATED (OD)         11\n",
       "WARRANT - MISD WARRANT PICKUP                            11\n",
       "--DIRECTED PATROL ACTIVITY                               11\n",
       "MVC - WITH INJURIES (INCLUDES HIT AND RUN)               10\n",
       "SFD - ASSIST ON FIRE OR MEDIC RESPONSE                   10\n",
       "--ANIMAL COMPLAINT - NOISE,STRAY,BITE                     9\n",
       "--MISC MISD AND VIOLS - PARKS EXCLUSION                   9\n",
       "--CASUALTY,NON-TRAF,NON-CRIM - NON-DRUG RELATED           9\n",
       "--ASSIST OTHER AGENCY - FEDERAL AGENCY                    9\n",
       "--ALARM-COMM ROBB (BANK, PANIC, DURESS)                   9\n",
       "WEAPN - GUN,DEADLY WPN (NO THRTS/ASLT/DIST)               9\n",
       "HAZ - POTENTIAL THRT TO PHYS SAFETY (NO HAZMAT)           9\n",
       "UNKNOWN - COMPLAINT OF UNKNOWN NATURE                     9\n",
       "--TRAFFIC - BICYCLE VIOLATION                             8\n",
       "HARAS - NO BIAS, THREATS OR MALICIOUSNESS                 8\n",
       "PREMISE CHECK, OFFICER INITIATED ONVIEW ONLY              8\n",
       "FIGHT - IP/JO - WITH WEAPONS                              8\n",
       "ALARM - COMM, SILENT/AUD BURG (INCL BANKS)                8\n",
       "ASLT - DV                                                 7\n",
       "PURSE SNATCH - IP/JO - ROBBERY                            7\n",
       "PROWLER - IP/JO                                           7\n",
       "SEX IN PUBLIC PLACE/VIEW (INCL MASTURBATION)              7\n",
       "--ARSON,BOMBS,EXPLO - BOMBS, EXPLO,LARGE FIREWORKS        7\n",
       "FOLLOW UP                                                 7\n",
       "DOWN - CHECK FOR PERSON DOWN                              7\n",
       "--VICE - OTHER                                            6\n",
       "--PREMISE CHECKS - HOMELESS ENCAMPMENT                    6\n",
       "ROBBERY (INCLUDES STRONG ARM)                             6\n",
       "--ASSIST PUBLIC - 911 HANG UP, OPEN LINE                  6\n",
       "--ALARM-OTHER (VARDA,PDT,FIRE,LOCAL,METRO,ETC))           6\n",
       "AUTO THEFT - VEH THEFT OR THEFT & RECOVERY                6\n",
       "MVC - NON INJURY, BLOCKING                                6\n",
       "BURN - RECKLESS BURNING                                   6\n",
       "AUTO THEFT-IP/JO - VEHICLE, PLATES, TABS                  5\n",
       "FIGHT - JO - PHYSICAL (NO WEAPONS)                        5\n",
       "FIREWORKS - NUISANCE (NO HAZARD)                          5\n",
       "NUISANCE - MISCHIEF                                       5\n",
       "--PREMISE CHECKS - BUSINESS CHECK                         4\n",
       "--TRAFFIC - COMMUNITY TRAFFIC COMPLAINT (CTC)             4\n",
       "--ASSAULTS - GANG RELATED                                 4\n",
       "LEWD -  (EXPOSING, FLASHING)                              4\n",
       "--ALARM-RESIDENTIAL PANIC OR DURESS                       4\n",
       "DUI - DRIVING UNDER INFLUENCE                             4\n",
       "--ASSAULTS - TELEPHONE, WRITING                           4\n",
       "ASSIST OTHER AGENCY - ROUTINE SERVICE                     4\n",
       "SHOTS - IP/JO - INCLUDES HEARD/NO ASSAULT                 4\n",
       "--PROPERTY - MISSING PROPERTY                             4\n",
       "--CRISIS COMPLAINT - PICK-UP OR TRANSPORT                 4\n",
       "SERVICE - WELFARE CHECK                                   3\n",
       "MVC - HIT AND RUN (NON INJURY), INCLUDES IP/JO            3\n",
       "OVERDOSE - DRUG RELATED CASUALTY                          3\n",
       "NARCOTICS - FOUND                                         3\n",
       "--DV - STANDBY TO ASSURE PEACE                            3\n",
       "PROPERTY - FOUND                                          3\n",
       "BURG - RES (INCL UNOCC STRUCTURES ON PROP)                3\n",
       "--SEX OFFENSES (NON-RAPE) - FAILURE TO REGISTER           3\n",
       "LIQUOR VIOLATIONS - ADULT                                 3\n",
       "RAPE                                                      3\n",
       "--HARBOR - BOAT ACCIDENT                                  3\n",
       "MVC - REPORT, NON INJ/NON BLKG OR AFTER FACT INJ          3\n",
       "HAZ - IMMINENT THRT TO PHYS SAFETY (NO HAZ MAT)           2\n",
       "THREATS - DV - NO ASSAULT                                 2\n",
       "DOWN - CHECK FOR DOWN PERSON                              2\n",
       "HOSPITAL GUARD ASSIGNMENT                                 2\n",
       "ORDER - VIOLATING DV COURT ORDER                          2\n",
       "ORDER - VIOLATION OF COURT ORDER (NON DV)                 2\n",
       "PERSON IN BEHAVIORAL/EMOTIONAL CRISIS                     2\n",
       "BOMB - THREATS                                            2\n",
       "--HARBOR - VESSEL, THEFT                                  2\n",
       "-ASSIGNED DUTY - COMMUNITY,SCHOOL,SPECIAL EVENT           2\n",
       "-ASSIGNED DUTY - FOOT BEAT (FROM ASSIGNED CAR)            2\n",
       "--VICE - GAMBLING                                         2\n",
       "--HARBOR - BOATING UNDER THE INFLUENCE                    2\n",
       "MVC - UNK INJURIES                                        2\n",
       "ASSIST OTHER AGENCY - EMERGENCY SERVICE                   2\n",
       "--AUTOMOBILES - ABANDONED CAR                             2\n",
       "VICE - PROSTITUTION                                       2\n",
       "--PERSON - MISSING PERSON                                 2\n",
       "BIAS -IP/JO - RACIAL, POLITICAL, SEXUAL MOTIVATION        1\n",
       "SUICIDE - IP/JO SUICIDAL PERSON AND ATTEMPTS              1\n",
       "TRAFFIC - BLOCKING ROADWAY                                1\n",
       "DEMONSTRATIONS                                            1\n",
       "THEFT OF SERVICES                                         1\n",
       "TRAFFIC - MOVING VIOLATION                                1\n",
       "WARRANT PICKUP - FROM OTHER AGENCY                        1\n",
       "-OFF DUTY EMPLOYMENT                                      1\n",
       "CARJACKING - IP/JO - ROBBERY                              1\n",
       "DIRECTED PATROL ACTIVITY                                  1\n",
       "DOA - CASUALTY, DEAD BODY                                 1\n",
       "FRAUD - FORGERY,BUNCO, SCAMS, ID THEFT, ETC               1\n",
       "ASSIST PUBLIC - NO WELFARE CHK OR DV ORDER SERVICE        1\n",
       "--DEMO MGMNT (CONTROL TACTICS USED)                       1\n",
       "--CROWD MGMNT (STAND BY ONLY)                             1\n",
       "UNDERCOVER OPS, CAUTION (INCLUDES STAKEOUTS)              1\n",
       "--HARBOR - ASSIST BOATER (NON EMERG)                      1\n",
       "PEACE-STANDBY TO ASSURE (NO COURT ORDR SVC)               1\n",
       "FOOT - ELUDING POLICE                                     1\n",
       "FIGHT - VERBAL/ORAL (NO WEAPONS)                          1\n",
       "TRAF - ELUDING POLICE                                     1\n",
       "--COMMERCIAL SEXUAL EXPLOITATION OF MINORS (CSEC)         1\n",
       "--PREMISE CHECKS - REQUEST TO WATCH                       1\n",
       "NOISE - DIST, GENERAL (CONST, RESID, BALL PLAY)           1\n",
       "-ASSIGNED DUTY - STAKEOUT                                 1\n",
       "ESCAPE - PRISONER                                         1\n",
       "NARCOTICS WARRANT SERVICE                                 1\n",
       "BIAS -RACIAL, POLITICAL, SEXUAL MOTIVATION                1\n",
       "KNOWN KIDNAPPNG                                           1\n",
       "PROWLER                                                   1\n",
       "SHOTS -DELAY/INCLUDES HEARD/NO ASSAULT                    1\n",
       "Name: Final_Call_Type, dtype: int64"
      ]
     },
     "execution_count": 67,
     "metadata": {},
     "output_type": "execute_result"
    }
   ],
   "source": [
    "df['Final_Call_Type'].value_counts()"
   ]
  },
  {
   "cell_type": "code",
   "execution_count": 68,
   "metadata": {},
   "outputs": [
    {
     "data": {
      "text/plain": [
       "911                              24027\n",
       "-                                13461\n",
       "ONVIEW                           10563\n",
       "TELEPHONE OTHER, NOT 911          3619\n",
       "ALARM CALL (NOT POLICE ALARM)      421\n",
       "TEXT MESSAGE                        15\n",
       "SCHEDULED EVENT (RECURRING)          1\n",
       "Name: Call_Type, dtype: int64"
      ]
     },
     "execution_count": 68,
     "metadata": {},
     "output_type": "execute_result"
    }
   ],
   "source": [
    "df['Call_Type'].value_counts()"
   ]
  },
  {
   "cell_type": "code",
   "execution_count": 69,
   "metadata": {},
   "outputs": [
    {
     "data": {
      "text/plain": [
       "N    47468\n",
       "Y     4639\n",
       "Name: Arrest_Flag, dtype: int64"
      ]
     },
     "execution_count": 69,
     "metadata": {},
     "output_type": "execute_result"
    }
   ],
   "source": [
    "df['Arrest_Flag'].value_counts()"
   ]
  },
  {
   "cell_type": "code",
   "execution_count": 70,
   "metadata": {
    "scrolled": true
   },
   "outputs": [
    {
     "data": {
      "text/plain": [
       "N    39636\n",
       "Y    11993\n",
       "-      478\n",
       "Name: Frisk_Flag, dtype: int64"
      ]
     },
     "execution_count": 70,
     "metadata": {},
     "output_type": "execute_result"
    }
   ],
   "source": [
    "df['Frisk_Flag'].value_counts()"
   ]
  },
  {
   "cell_type": "code",
   "execution_count": 71,
   "metadata": {
    "scrolled": true
   },
   "outputs": [
    {
     "data": {
      "text/plain": [
       "21       19\n",
       "22      257\n",
       "23      990\n",
       "24     1918\n",
       "25     2211\n",
       "26     2635\n",
       "27     2504\n",
       "28     2825\n",
       "29     2987\n",
       "30     3169\n",
       "31     3375\n",
       "32     3078\n",
       "33     3036\n",
       "34     2814\n",
       "35     2241\n",
       "36     1610\n",
       "37     1475\n",
       "38     1348\n",
       "39     1176\n",
       "40     1153\n",
       "41      956\n",
       "42     1075\n",
       "43      772\n",
       "44      835\n",
       "45      848\n",
       "46      883\n",
       "47      678\n",
       "48      697\n",
       "49      631\n",
       "50      607\n",
       "51      485\n",
       "52      422\n",
       "53      423\n",
       "54      484\n",
       "55      372\n",
       "56      277\n",
       "57      259\n",
       "58      204\n",
       "59      101\n",
       "60       88\n",
       "61       46\n",
       "62       19\n",
       "63       36\n",
       "64       14\n",
       "65       16\n",
       "66        2\n",
       "67       12\n",
       "68        6\n",
       "69        1\n",
       "70        1\n",
       "115       1\n",
       "116       2\n",
       "117       1\n",
       "118       3\n",
       "119      28\n",
       "121       1\n",
       "Name: Officer_Age, dtype: int64"
      ]
     },
     "execution_count": 71,
     "metadata": {},
     "output_type": "execute_result"
    }
   ],
   "source": [
    "df['Officer_Age'].value_counts().sort_index(ascending=True)"
   ]
  },
  {
   "cell_type": "markdown",
   "metadata": {},
   "source": [
    "It's unlikely that there are officers over 100 years old making this arrests, and very few entries contain this odd data, so we will remove them."
   ]
  },
  {
   "cell_type": "code",
   "execution_count": 72,
   "metadata": {
    "scrolled": true
   },
   "outputs": [
    {
     "data": {
      "text/plain": [
       "21      19\n",
       "22     257\n",
       "23     990\n",
       "24    1918\n",
       "25    2211\n",
       "26    2635\n",
       "27    2504\n",
       "28    2825\n",
       "29    2987\n",
       "30    3169\n",
       "31    3375\n",
       "32    3078\n",
       "33    3036\n",
       "34    2814\n",
       "35    2241\n",
       "36    1610\n",
       "37    1475\n",
       "38    1348\n",
       "39    1176\n",
       "40    1153\n",
       "41     956\n",
       "42    1075\n",
       "43     772\n",
       "44     835\n",
       "45     848\n",
       "46     883\n",
       "47     678\n",
       "48     697\n",
       "49     631\n",
       "50     607\n",
       "51     485\n",
       "52     422\n",
       "53     423\n",
       "54     484\n",
       "55     372\n",
       "56     277\n",
       "57     259\n",
       "58     204\n",
       "59     101\n",
       "60      88\n",
       "61      46\n",
       "62      19\n",
       "63      36\n",
       "64      14\n",
       "65      16\n",
       "66       2\n",
       "67      12\n",
       "68       6\n",
       "69       1\n",
       "70       1\n",
       "Name: Officer_Age, dtype: int64"
      ]
     },
     "execution_count": 72,
     "metadata": {},
     "output_type": "execute_result"
    }
   ],
   "source": [
    "df = df[df['Officer_Age']<100]\n",
    "df['Officer_Age'].value_counts().sort_index(ascending=True)"
   ]
  },
  {
   "cell_type": "code",
   "execution_count": 73,
   "metadata": {},
   "outputs": [
    {
     "data": {
      "text/plain": [
       "2015    7058\n",
       "2016    7713\n",
       "2017    7487\n",
       "2018    8880\n",
       "2019    8214\n",
       "2020    6159\n",
       "2021    4281\n",
       "2022    2279\n",
       "Name: Reported_Year, dtype: int64"
      ]
     },
     "execution_count": 73,
     "metadata": {},
     "output_type": "execute_result"
    }
   ],
   "source": [
    "df['Reported_Year'].value_counts().sort_index(ascending=True)"
   ]
  },
  {
   "cell_type": "markdown",
   "metadata": {},
   "source": [
    "Data Analysis\n",
    "\n",
    "Important things to note about data:\n",
    "\n",
    "Number of samples\n",
    "\n",
    "Time period collected over\n",
    "Visuals of data Distribution"
   ]
  },
  {
   "cell_type": "code",
   "execution_count": 74,
   "metadata": {},
   "outputs": [
    {
     "name": "stdout",
     "output_type": "stream",
     "text": [
      "<class 'pandas.core.frame.DataFrame'>\n",
      "Int64Index: 52071 entries, 0 to 52106\n",
      "Data columns (total 13 columns):\n",
      " #   Column                    Non-Null Count  Dtype \n",
      "---  ------                    --------------  ----- \n",
      " 0   Subject_Age_Group         52071 non-null  object\n",
      " 1   Officer_Gender            52071 non-null  object\n",
      " 2   Officer_Race              52071 non-null  object\n",
      " 3   Subject_Perceived_Race    52071 non-null  object\n",
      " 4   Subject_Perceived_Gender  52071 non-null  object\n",
      " 5   Initial_Call_Type         52071 non-null  object\n",
      " 6   Final_Call_Type           52071 non-null  object\n",
      " 7   Call_Type                 52071 non-null  object\n",
      " 8   Arrest_Flag               52071 non-null  object\n",
      " 9   Frisk_Flag                52071 non-null  object\n",
      " 10  Reported_Year             52071 non-null  int32 \n",
      " 11  Officer_Age               52071 non-null  int64 \n",
      " 12  Weapon_Reported           52071 non-null  object\n",
      "dtypes: int32(1), int64(1), object(11)\n",
      "memory usage: 5.4+ MB\n"
     ]
    }
   ],
   "source": [
    "df.info()"
   ]
  },
  {
   "cell_type": "code",
   "execution_count": 29,
   "metadata": {},
   "outputs": [
    {
     "data": {
      "text/plain": [
       "<AxesSubplot:xlabel='Officer_Age', ylabel='Count'>"
      ]
     },
     "execution_count": 29,
     "metadata": {},
     "output_type": "execute_result"
    },
    {
     "data": {
      "image/png": "[encoded data removed]",
      "text/plain": [
       "<Figure size 1080x432 with 1 Axes>"
      ]
     },
     "metadata": {
      "needs_background": "light"
     },
     "output_type": "display_data"
    }
   ],
   "source": [
    "fig, ax = plt.subplots(figsize=(15,6))\n",
    "sns.histplot(df['Officer_Age'], bins=100)"
   ]
  },
  {
   "cell_type": "code",
   "execution_count": null,
   "metadata": {},
   "outputs": [],
   "source": []
  }
 ],
 "metadata": {
  "kernelspec": {
   "display_name": "Python 3",
   "language": "python",
   "name": "python3"
  },
  "language_info": {
   "codemirror_mode": {
    "name": "ipython",
    "version": 3
   },
   "file_extension": ".py",
   "mimetype": "text/x-python",
   "name": "python",
   "nbconvert_exporter": "python",
   "pygments_lexer": "ipython3",
   "version": "3.8.5"
  }
 },
 "nbformat": 4,
 "nbformat_minor": 4
}
