{
 "cells": [
  {
   "cell_type": "code",
   "execution_count": 8,
   "id": "6e4bd057",
   "metadata": {},
   "outputs": [],
   "source": [
    "import numpy as np\n",
    "import pandas as pd\n",
    "import matplotlib.pyplot as plt\n",
    "import seaborn as sns"
   ]
  },
  {
   "cell_type": "code",
   "execution_count": 9,
   "id": "a6a25e4a",
   "metadata": {},
   "outputs": [
    {
     "name": "stdout",
     "output_type": "stream",
     "text": [
      "<class 'pandas.core.frame.DataFrame'>\n",
      "RangeIndex: 52147 entries, 0 to 52146\n",
      "Data columns (total 10 columns):\n",
      " #   Column                    Non-Null Count  Dtype \n",
      "---  ------                    --------------  ----- \n",
      " 0   Subject_Age_Group         52147 non-null  object\n",
      " 1   Was_Weapon_Reported       52147 non-null  object\n",
      " 2   Officer_Gender            52147 non-null  object\n",
      " 3   Officer_Race              52147 non-null  object\n",
      " 4   Subject_Perceived_Race    52147 non-null  object\n",
      " 5   Subject_Perceived_Gender  52147 non-null  object\n",
      " 6   Arrest_Flag               52147 non-null  object\n",
      " 7   Frisk_Flag                52147 non-null  object\n",
      " 8   Reported_Year             52147 non-null  int64 \n",
      " 9   Officer_Age               52147 non-null  int64 \n",
      "dtypes: int64(2), object(8)\n",
      "memory usage: 4.0+ MB\n"
     ]
    }
   ],
   "source": [
    "#load data\n",
    "df = pd.read_csv('data/cleaned_df.csv')\n",
    "df.info()"
   ]
  },
  {
   "cell_type": "markdown",
   "id": "939bd2d2",
   "metadata": {},
   "source": [
    "categoricals!\n",
    "\n",
    "dummoes or one hot? or make into \"category\"?"
   ]
  },
  {
   "cell_type": "markdown",
   "id": "f3fc4d2f",
   "metadata": {},
   "source": [
    "train test split (before standardizing!)"
   ]
  },
  {
   "cell_type": "markdown",
   "id": "2e8beb48",
   "metadata": {},
   "source": [
    "standardize etc! preprocess!"
   ]
  },
  {
   "cell_type": "markdown",
   "id": "4dbe10b4",
   "metadata": {},
   "source": [
    "model testing!"
   ]
  },
  {
   "cell_type": "markdown",
   "id": "b73b6fb3",
   "metadata": {},
   "source": [
    "evaluation and different scores!"
   ]
  },
  {
   "cell_type": "markdown",
   "id": "a2890eda",
   "metadata": {},
   "source": [
    "SMOTE?"
   ]
  },
  {
   "cell_type": "markdown",
   "id": "fd043a26",
   "metadata": {},
   "source": [
    "gridsearch?"
   ]
  },
  {
   "cell_type": "markdown",
   "id": "a57260cf",
   "metadata": {},
   "source": [
    "feature selection?"
   ]
  },
  {
   "cell_type": "markdown",
   "id": "2f37a5cc",
   "metadata": {},
   "source": [
    "confusion matrices??"
   ]
  },
  {
   "cell_type": "code",
   "execution_count": null,
   "id": "24e59854",
   "metadata": {},
   "outputs": [],
   "source": []
  }
 ],
 "metadata": {
  "kernelspec": {
   "display_name": "Python 3 (ipykernel)",
   "language": "python",
   "name": "python3"
  },
  "language_info": {
   "codemirror_mode": {
    "name": "ipython",
    "version": 3
   },
   "file_extension": ".py",
   "mimetype": "text/x-python",
   "name": "python",
   "nbconvert_exporter": "python",
   "pygments_lexer": "ipython3",
   "version": "3.9.7"
  }
 },
 "nbformat": 4,
 "nbformat_minor": 5
}
