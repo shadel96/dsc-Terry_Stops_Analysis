{
 "cells": [
  {
   "cell_type": "markdown",
   "id": "981992c7",
   "metadata": {},
   "source": [
    "\n",
    "\n",
    "predict arrest outcome"
   ]
  },
  {
   "cell_type": "code",
   "execution_count": 10,
   "id": "6e4bd057",
   "metadata": {
    "scrolled": true
   },
   "outputs": [],
   "source": [
    "import numpy as np\n",
    "import pandas as pd\n",
    "import matplotlib.pyplot as plt\n",
    "import seaborn as sns\n",
    "\n",
    "from sklearn.linear_model import LogisticRegression\n",
    "from sklearn.neighbors import KNeighborsClassifier\n",
    "from sklearn.tree import DecisionTreeClassifier\n",
    "from sklearn.ensemble import RandomForestClassifier\n",
    "from sklearn.metrics import accuracy_score, roc_curve, auc, confusion_matrix, plot_confusion_matrix\n",
    "from sklearn.model_selection import train_test_split, GridSearchCV\n",
    "from sklearn.pipeline import Pipeline\n",
    "from sklearn.preprocessing import StandardScaler\n",
    "\n",
    "from imblearn.over_sampling import SMOTE"
   ]
  },
  {
   "cell_type": "code",
   "execution_count": 11,
   "id": "a6a25e4a",
   "metadata": {
    "scrolled": true
   },
   "outputs": [
    {
     "name": "stdout",
     "output_type": "stream",
     "text": [
      "<class 'pandas.core.frame.DataFrame'>\n",
      "RangeIndex: 52147 entries, 0 to 52146\n",
      "Data columns (total 10 columns):\n",
      " #   Column                    Non-Null Count  Dtype \n",
      "---  ------                    --------------  ----- \n",
      " 0   Subject_Age_Group         52147 non-null  object\n",
      " 1   Was_Weapon_Reported       52147 non-null  object\n",
      " 2   Officer_Gender            52147 non-null  object\n",
      " 3   Officer_Race              52147 non-null  object\n",
      " 4   Subject_Perceived_Race    52147 non-null  object\n",
      " 5   Subject_Perceived_Gender  52147 non-null  object\n",
      " 6   Arrest_Flag               52147 non-null  int64 \n",
      " 7   Frisk_Flag                52147 non-null  int64 \n",
      " 8   Reported_Year             52147 non-null  int64 \n",
      " 9   Officer_Age               52147 non-null  int64 \n",
      "dtypes: int64(4), object(6)\n",
      "memory usage: 4.0+ MB\n"
     ]
    }
   ],
   "source": [
    "#load data\n",
    "df = pd.read_csv('data/cleaned_df.csv')\n",
    "\n",
    "#change frisk and arrest flags to 1 and 0\n",
    "df.replace({'Frisk_Flag' : { 'Y' : 1, 'N' : 0}}, inplace=True)\n",
    "df.replace({'Arrest_Flag' : { 'Y' : 1, 'N' : 0}}, inplace=True)\n",
    "\n",
    "df.info()"
   ]
  },
  {
   "cell_type": "markdown",
   "id": "6f4845e0",
   "metadata": {},
   "source": [
    "First the non-numeric variables need to be split into data types that can be properly interpreted by our machine learning models.\n",
    "\n",
    "We drop the first of each of these dummies to reduce unneccessary correlation betweel features."
   ]
  },
  {
   "cell_type": "code",
   "execution_count": 12,
   "id": "e5b7609f",
   "metadata": {
    "scrolled": true
   },
   "outputs": [
    {
     "name": "stdout",
     "output_type": "stream",
     "text": [
      "<class 'pandas.core.frame.DataFrame'>\n",
      "RangeIndex: 52147 entries, 0 to 52146\n",
      "Data columns (total 28 columns):\n",
      " #   Column                                                            Non-Null Count  Dtype\n",
      "---  ------                                                            --------------  -----\n",
      " 0   Arrest_Flag                                                       52147 non-null  int64\n",
      " 1   Frisk_Flag                                                        52147 non-null  int64\n",
      " 2   Reported_Year                                                     52147 non-null  int64\n",
      " 3   Officer_Age                                                       52147 non-null  int64\n",
      " 4   Subject_Age_Group_1 - 17                                          52147 non-null  uint8\n",
      " 5   Subject_Age_Group_18 - 25                                         52147 non-null  uint8\n",
      " 6   Subject_Age_Group_26 - 35                                         52147 non-null  uint8\n",
      " 7   Subject_Age_Group_36 - 45                                         52147 non-null  uint8\n",
      " 8   Subject_Age_Group_46 - 55                                         52147 non-null  uint8\n",
      " 9   Subject_Age_Group_56 and Above                                    52147 non-null  uint8\n",
      " 10  Was_Weapon_Reported_Weapon Reported                               52147 non-null  uint8\n",
      " 11  Officer_Gender_M                                                  52147 non-null  uint8\n",
      " 12  Officer_Race_Asian                                                52147 non-null  uint8\n",
      " 13  Officer_Race_Black or African American                            52147 non-null  uint8\n",
      " 14  Officer_Race_Hispanic or Latino                                   52147 non-null  uint8\n",
      " 15  Officer_Race_Nat Hawaiian/Oth Pac Islander                        52147 non-null  uint8\n",
      " 16  Officer_Race_Not Specified                                        52147 non-null  uint8\n",
      " 17  Officer_Race_Two or More Races                                    52147 non-null  uint8\n",
      " 18  Officer_Race_White                                                52147 non-null  uint8\n",
      " 19  Subject_Perceived_Race_Asian                                      52147 non-null  uint8\n",
      " 20  Subject_Perceived_Race_Black or African American                  52147 non-null  uint8\n",
      " 21  Subject_Perceived_Race_Hispanic                                   52147 non-null  uint8\n",
      " 22  Subject_Perceived_Race_Multi-Racial                               52147 non-null  uint8\n",
      " 23  Subject_Perceived_Race_Native Hawaiian or Other Pacific Islander  52147 non-null  uint8\n",
      " 24  Subject_Perceived_Race_Unknown                                    52147 non-null  uint8\n",
      " 25  Subject_Perceived_Race_White                                      52147 non-null  uint8\n",
      " 26  Subject_Perceived_Gender_M                                        52147 non-null  uint8\n",
      " 27  Subject_Perceived_Gender_N                                        52147 non-null  uint8\n",
      "dtypes: int64(4), uint8(24)\n",
      "memory usage: 2.8 MB\n"
     ]
    }
   ],
   "source": [
    "dummies_df = pd.get_dummies(df, drop_first=True)\n",
    "dummies_df.info()"
   ]
  },
  {
   "cell_type": "markdown",
   "id": "f3fc4d2f",
   "metadata": {},
   "source": [
    "separate arrest outcome and train test split"
   ]
  },
  {
   "cell_type": "code",
   "execution_count": 13,
   "id": "507cf30d",
   "metadata": {},
   "outputs": [],
   "source": [
    "X= dummies_df.drop('Arrest_Flag', axis=1)\n",
    "y = dummies_df['Arrest_Flag']\n",
    "\n",
    "X_train, X_test, y_train, y_test = train_test_split(X, y, random_state=42, stratify=y)"
   ]
  },
  {
   "cell_type": "code",
   "execution_count": 14,
   "id": "8ee8fb77",
   "metadata": {
    "scrolled": false
   },
   "outputs": [
    {
     "name": "stdout",
     "output_type": "stream",
     "text": [
      "(39110, 27)\n",
      "(39110,)\n",
      "(13037, 27)\n",
      "(13037,)\n"
     ]
    }
   ],
   "source": [
    "print(X_train.shape)\n",
    "print(y_train.shape)\n",
    "print(X_test.shape)\n",
    "print(y_test.shape)"
   ]
  },
  {
   "cell_type": "code",
   "execution_count": null,
   "id": "78e30349",
   "metadata": {},
   "outputs": [],
   "source": []
  },
  {
   "cell_type": "markdown",
   "id": "6d53b98d",
   "metadata": {},
   "source": [
    "talk about evaluation scores! list all, choose most important"
   ]
  },
  {
   "cell_type": "code",
   "execution_count": null,
   "id": "a5bc2b99",
   "metadata": {},
   "outputs": [],
   "source": []
  },
  {
   "cell_type": "markdown",
   "id": "6f4b782b",
   "metadata": {},
   "source": [
    "scale numeric data before anything else"
   ]
  },
  {
   "cell_type": "code",
   "execution_count": null,
   "id": "cc85c26d",
   "metadata": {},
   "outputs": [],
   "source": []
  },
  {
   "cell_type": "markdown",
   "id": "bed12554",
   "metadata": {},
   "source": [
    "run through logreg model first\n",
    "\n",
    "show auc score, roc (for true and false positives)\n",
    "\n",
    "show confusion matrix\n",
    "\n",
    "then identify class imbalance, use SMOTE to create synthetic data and try again\n"
   ]
  },
  {
   "cell_type": "code",
   "execution_count": 15,
   "id": "0aa09d3e",
   "metadata": {
    "scrolled": false
   },
   "outputs": [
    {
     "name": "stdout",
     "output_type": "stream",
     "text": [
      "AUC: 0.6328889478833708\n"
     ]
    },
    {
     "data": {
      "image/png": "[encoded data removed]",
      "text/plain": [
       "<Figure size 720x576 with 1 Axes>"
      ]
     },
     "metadata": {},
     "output_type": "display_data"
    }
   ],
   "source": [
    "# Initial Model\n",
    "logreg = LogisticRegression(fit_intercept=False, solver='liblinear')\n",
    "\n",
    "# Probability scores for test set\n",
    "y_score = logreg.fit(X_train, y_train).decision_function(X_test)\n",
    "# False positive rate and true positive rate\n",
    "fpr, tpr, thresholds = roc_curve(y_test, y_score)\n",
    "\n",
    "# Seaborn's beautiful styling\n",
    "sns.set_style('darkgrid', {'axes.facecolor': '0.9'})\n",
    "\n",
    "# Print AUC\n",
    "print('AUC: {}'.format(auc(fpr, tpr)))\n",
    "\n",
    "# Plot the ROC curve\n",
    "plt.figure(figsize=(10, 8))\n",
    "lw = 2\n",
    "plt.plot(fpr, tpr, color='darkorange',\n",
    "         lw=lw, label='ROC curve')\n",
    "plt.plot([0, 1], [0, 1], color='navy', lw=lw, linestyle='--')\n",
    "plt.xlim([0.0, 1.0])\n",
    "plt.ylim([0.0, 1.05])\n",
    "plt.yticks([i/20.0 for i in range(21)])\n",
    "plt.xticks([i/20.0 for i in range(21)])\n",
    "plt.xlabel('False Positive Rate')\n",
    "plt.ylabel('True Positive Rate')\n",
    "plt.title('Receiver operating characteristic (ROC) Curve')\n",
    "plt.legend(loc='lower right')\n",
    "plt.show()"
   ]
  },
  {
   "cell_type": "markdown",
   "id": "674f5663",
   "metadata": {},
   "source": []
  },
  {
   "cell_type": "code",
   "execution_count": 22,
   "id": "bbd7a6a8",
   "metadata": {},
   "outputs": [
    {
     "name": "stderr",
     "output_type": "stream",
     "text": [
      "C:\\Users\\moola\\anaconda3\\lib\\site-packages\\sklearn\\utils\\deprecation.py:87: FutureWarning: Function plot_confusion_matrix is deprecated; Function `plot_confusion_matrix` is deprecated in 1.0 and will be removed in 1.2. Use one of the class methods: ConfusionMatrixDisplay.from_predictions or ConfusionMatrixDisplay.from_estimator.\n",
      "  warnings.warn(msg, category=FutureWarning)\n"
     ]
    },
    {
     "data": {
      "image/png": "[encoded data removed]",
      "text/plain": [
       "<Figure size 432x288 with 2 Axes>"
      ]
     },
     "metadata": {},
     "output_type": "display_data"
    }
   ],
   "source": [
    "# Plot confusion matrix of the test set\n",
    "plot_confusion_matrix(logreg, X_test, y_test)\n",
    "plt.grid(False) # removes the annoying grid lines from plot\n",
    "plt.show()"
   ]
  },
  {
   "cell_type": "code",
   "execution_count": 17,
   "id": "090be237",
   "metadata": {
    "scrolled": true
   },
   "outputs": [],
   "source": [
    "smote = SMOTE(random_state = 11)\n",
    "X_train, y_train = smote.fit_resample(X_train, y_train)"
   ]
  },
  {
   "cell_type": "code",
   "execution_count": null,
   "id": "74d7ab03",
   "metadata": {},
   "outputs": [],
   "source": []
  },
  {
   "cell_type": "markdown",
   "id": "82141356",
   "metadata": {},
   "source": [
    "\n",
    "after this observation, run multiple other models - pipeline with scaler and smote\n"
   ]
  },
  {
   "cell_type": "code",
   "execution_count": null,
   "id": "b8989f15",
   "metadata": {},
   "outputs": [],
   "source": []
  },
  {
   "cell_type": "markdown",
   "id": "74f42660",
   "metadata": {},
   "source": [
    "we can further fine tune this model by adjust the parameters, using gridsearchcv"
   ]
  },
  {
   "cell_type": "markdown",
   "id": "a57260cf",
   "metadata": {},
   "source": [
    "feature selection - lasso"
   ]
  }
 ],
 "metadata": {
  "kernelspec": {
   "display_name": "Python 3 (ipykernel)",
   "language": "python",
   "name": "python3"
  },
  "language_info": {
   "codemirror_mode": {
    "name": "ipython",
    "version": 3
   },
   "file_extension": ".py",
   "mimetype": "text/x-python",
   "name": "python",
   "nbconvert_exporter": "python",
   "pygments_lexer": "ipython3",
   "version": "3.9.7"
  }
 },
 "nbformat": 4,
 "nbformat_minor": 5
}
