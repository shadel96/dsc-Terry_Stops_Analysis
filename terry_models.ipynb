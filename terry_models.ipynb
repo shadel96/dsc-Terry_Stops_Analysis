{
 "cells": [
  {
   "cell_type": "markdown",
   "metadata": {},
   "source": [
    "\n",
    "\n",
    "predict arrest outcome"
   ]
  },
  {
   "cell_type": "code",
   "execution_count": 2,
   "metadata": {
    "scrolled": true
   },
   "outputs": [],
   "source": [
    "import numpy as np\n",
    "import pandas as pd\n",
    "import matplotlib.pyplot as plt\n",
    "import seaborn as sns\n",
    "from sklearn import metrics\n",
    "\n",
    "# models\n",
    "from sklearn.linear_model import LogisticRegression\n",
    "from sklearn.neighbors import KNeighborsClassifier\n",
    "from sklearn.tree import DecisionTreeClassifier\n",
    "from sklearn.ensemble import RandomForestClassifier\n",
    "from xgboost import XGBClassifier\n",
    "\n",
    "from sklearn.metrics import accuracy_score, f1_score, roc_curve, auc, confusion_matrix, plot_confusion_matrix\n",
    "from sklearn.model_selection import train_test_split, GridSearchCV, StratifiedKFold\n",
    "from sklearn.preprocessing import StandardScaler\n",
    "\n",
    "from imblearn.pipeline import Pipeline as imbpipeline\n",
    "from imblearn.over_sampling import SMOTE\n",
    "from sklearn.linear_model import Lasso"
   ]
  },
  {
   "cell_type": "code",
   "execution_count": 3,
   "metadata": {
    "scrolled": true
   },
   "outputs": [
    {
     "name": "stdout",
     "output_type": "stream",
     "text": [
      "<class 'pandas.core.frame.DataFrame'>\n",
      "RangeIndex: 52147 entries, 0 to 52146\n",
      "Data columns (total 9 columns):\n",
      " #   Column                    Non-Null Count  Dtype \n",
      "---  ------                    --------------  ----- \n",
      " 0   Subject_Age_Group         52147 non-null  object\n",
      " 1   Was_Weapon_Reported       52147 non-null  object\n",
      " 2   Officer_Gender            52147 non-null  object\n",
      " 3   Officer_Race              52147 non-null  object\n",
      " 4   Subject_Perceived_Race    52147 non-null  object\n",
      " 5   Subject_Perceived_Gender  52147 non-null  object\n",
      " 6   Arrest_Flag               52147 non-null  int64 \n",
      " 7   Frisk_Flag                52147 non-null  int64 \n",
      " 8   Officer_Age               52147 non-null  int64 \n",
      "dtypes: int64(3), object(6)\n",
      "memory usage: 3.6+ MB\n"
     ]
    }
   ],
   "source": [
    "#load data\n",
    "df = pd.read_csv('data/cleaned_df.csv')\n",
    "\n",
    "#change frisk and arrest flags to 1 and 0\n",
    "df.replace({'Frisk_Flag' : { 'Y' : 1, 'N' : 0}}, inplace=True)\n",
    "df.replace({'Arrest_Flag' : { 'Y' : 1, 'N' : 0}}, inplace=True)\n",
    "\n",
    "df.info()"
   ]
  },
  {
   "cell_type": "markdown",
   "metadata": {},
   "source": [
    "First the non-numeric variables need to be split into data types that can be properly interpreted by our classifiers.\n",
    "\n",
    "We drop the first of each of these dummies to reduce unneccessary correlation betweel features."
   ]
  },
  {
   "cell_type": "code",
   "execution_count": 4,
   "metadata": {
    "scrolled": true
   },
   "outputs": [
    {
     "name": "stdout",
     "output_type": "stream",
     "text": [
      "<class 'pandas.core.frame.DataFrame'>\n",
      "RangeIndex: 52147 entries, 0 to 52146\n",
      "Data columns (total 27 columns):\n",
      " #   Column                                                            Non-Null Count  Dtype\n",
      "---  ------                                                            --------------  -----\n",
      " 0   Arrest_Flag                                                       52147 non-null  int64\n",
      " 1   Frisk_Flag                                                        52147 non-null  int64\n",
      " 2   Officer_Age                                                       52147 non-null  int64\n",
      " 3   Subject_Age_Group_1 - 17                                          52147 non-null  uint8\n",
      " 4   Subject_Age_Group_18 - 25                                         52147 non-null  uint8\n",
      " 5   Subject_Age_Group_26 - 35                                         52147 non-null  uint8\n",
      " 6   Subject_Age_Group_36 - 45                                         52147 non-null  uint8\n",
      " 7   Subject_Age_Group_46 - 55                                         52147 non-null  uint8\n",
      " 8   Subject_Age_Group_56 and Above                                    52147 non-null  uint8\n",
      " 9   Was_Weapon_Reported_Weapon Reported                               52147 non-null  uint8\n",
      " 10  Officer_Gender_M                                                  52147 non-null  uint8\n",
      " 11  Officer_Race_Asian                                                52147 non-null  uint8\n",
      " 12  Officer_Race_Black or African American                            52147 non-null  uint8\n",
      " 13  Officer_Race_Hispanic or Latino                                   52147 non-null  uint8\n",
      " 14  Officer_Race_Nat Hawaiian/Oth Pac Islander                        52147 non-null  uint8\n",
      " 15  Officer_Race_Not Specified                                        52147 non-null  uint8\n",
      " 16  Officer_Race_Two or More Races                                    52147 non-null  uint8\n",
      " 17  Officer_Race_White                                                52147 non-null  uint8\n",
      " 18  Subject_Perceived_Race_Asian                                      52147 non-null  uint8\n",
      " 19  Subject_Perceived_Race_Black or African American                  52147 non-null  uint8\n",
      " 20  Subject_Perceived_Race_Hispanic                                   52147 non-null  uint8\n",
      " 21  Subject_Perceived_Race_Multi-Racial                               52147 non-null  uint8\n",
      " 22  Subject_Perceived_Race_Native Hawaiian or Other Pacific Islander  52147 non-null  uint8\n",
      " 23  Subject_Perceived_Race_Unknown                                    52147 non-null  uint8\n",
      " 24  Subject_Perceived_Race_White                                      52147 non-null  uint8\n",
      " 25  Subject_Perceived_Gender_M                                        52147 non-null  uint8\n",
      " 26  Subject_Perceived_Gender_N                                        52147 non-null  uint8\n",
      "dtypes: int64(3), uint8(24)\n",
      "memory usage: 2.4 MB\n"
     ]
    }
   ],
   "source": [
    "dummies_df = pd.get_dummies(df, drop_first=True)\n",
    "dummies_df.info()"
   ]
  },
  {
   "cell_type": "code",
   "execution_count": 5,
   "metadata": {},
   "outputs": [],
   "source": [
    "#separate arrest outcome and train test split\n",
    "\n",
    "X= dummies_df.drop('Arrest_Flag', axis=1)\n",
    "y = dummies_df['Arrest_Flag']\n",
    "\n",
    "X_train, X_test, y_train, y_test = train_test_split(X, y, random_state=42, stratify=y)"
   ]
  },
  {
   "cell_type": "code",
   "execution_count": null,
   "metadata": {},
   "outputs": [],
   "source": []
  },
  {
   "cell_type": "code",
   "execution_count": null,
   "metadata": {},
   "outputs": [],
   "source": []
  },
  {
   "cell_type": "code",
   "execution_count": null,
   "metadata": {},
   "outputs": [],
   "source": []
  },
  {
   "cell_type": "code",
   "execution_count": null,
   "metadata": {},
   "outputs": [],
   "source": []
  },
  {
   "cell_type": "code",
   "execution_count": 71,
   "metadata": {
    "scrolled": false
   },
   "outputs": [
    {
     "data": {
      "text/plain": [
       "0    35563\n",
       "1     3547\n",
       "Name: Arrest_Flag, dtype: int64"
      ]
     },
     "execution_count": 71,
     "metadata": {},
     "output_type": "execute_result"
    }
   ],
   "source": [
    "#show imbalance of arrest flags\n",
    "\n",
    "y_train.value_counts()"
   ]
  },
  {
   "cell_type": "markdown",
   "metadata": {},
   "source": [
    "Because of the imbalance of Arrests vs Non Arrests, we will use SMOTE to add synthetic data. "
   ]
  },
  {
   "cell_type": "code",
   "execution_count": 72,
   "metadata": {
    "scrolled": false
   },
   "outputs": [
    {
     "data": {
      "text/plain": [
       "1    35563\n",
       "0    35563\n",
       "Name: Arrest_Flag, dtype: int64"
      ]
     },
     "execution_count": 72,
     "metadata": {},
     "output_type": "execute_result"
    }
   ],
   "source": [
    "smote = SMOTE(random_state = 11)\n",
    "X_train, y_train = smote.fit_resample(X_train, y_train)\n",
    "y_train.value_counts()"
   ]
  },
  {
   "cell_type": "code",
   "execution_count": null,
   "metadata": {},
   "outputs": [],
   "source": []
  },
  {
   "cell_type": "code",
   "execution_count": null,
   "metadata": {},
   "outputs": [],
   "source": []
  },
  {
   "cell_type": "code",
   "execution_count": null,
   "metadata": {},
   "outputs": [],
   "source": []
  },
  {
   "cell_type": "code",
   "execution_count": null,
   "metadata": {},
   "outputs": [],
   "source": []
  },
  {
   "cell_type": "markdown",
   "metadata": {},
   "source": [
    "FEATURE SELECTION\n",
    "\n",
    "WITH LASSO\n",
    "\n",
    "(reduces low features to 0!)"
   ]
  },
  {
   "cell_type": "code",
   "execution_count": 77,
   "metadata": {},
   "outputs": [],
   "source": [
    "scaler = StandardScaler()\n",
    "# fit the scaler to the training data\n",
    "scaler.fit(X_train)\n",
    "#transform the training data\n",
    "X_trainFS = pd.DataFrame(data = scaler.transform(X_train), columns = X.columns)\n",
    "#transform the testing dat\n",
    "X_testFS = pd.DataFrame(data = scaler.transform(X_test), columns = X.columns)"
   ]
  },
  {
   "cell_type": "code",
   "execution_count": 78,
   "metadata": {},
   "outputs": [],
   "source": [
    "lasso = Lasso(alpha = 0.001, normalize = False)\n",
    "lasso = lasso.fit(X_train, y_train)\n",
    "y_train_predFS = lasso.predict(X_train)\n",
    "# y_test_pred_fs = lasso.predict(X_test_fs)"
   ]
  },
  {
   "cell_type": "code",
   "execution_count": 1,
   "metadata": {},
   "outputs": [
    {
     "ename": "NameError",
     "evalue": "name 'lasso' is not defined",
     "output_type": "error",
     "traceback": [
      "\u001b[1;31m---------------------------------------------------------------------------\u001b[0m",
      "\u001b[1;31mNameError\u001b[0m                                 Traceback (most recent call last)",
      "\u001b[1;32m<ipython-input-1-112769158a6f>\u001b[0m in \u001b[0;36m<module>\u001b[1;34m\u001b[0m\n\u001b[1;32m----> 1\u001b[1;33m \u001b[0mlasso\u001b[0m\u001b[1;33m.\u001b[0m\u001b[0mcoef_\u001b[0m\u001b[1;33m\u001b[0m\u001b[1;33m\u001b[0m\u001b[0m\n\u001b[0m",
      "\u001b[1;31mNameError\u001b[0m: name 'lasso' is not defined"
     ]
    }
   ],
   "source": [
    "lasso.coef_"
   ]
  },
  {
   "cell_type": "code",
   "execution_count": null,
   "metadata": {},
   "outputs": [],
   "source": []
  },
  {
   "cell_type": "code",
   "execution_count": 80,
   "metadata": {
    "scrolled": true
   },
   "outputs": [
    {
     "data": {
      "text/plain": [
       "<AxesSubplot:title={'center':'Modal Coefficients'}>"
      ]
     },
     "execution_count": 80,
     "metadata": {},
     "output_type": "execute_result"
    },
    {
     "data": {
      "image/png": "[encoded data removed]",
      "text/plain": [
       "<Figure size 1152x1296 with 1 Axes>"
      ]
     },
     "metadata": {
      "needs_background": "light"
     },
     "output_type": "display_data"
    }
   ],
   "source": [
    "lasso_coef = pd.DataFrame(data=lasso.coef_).T\n",
    "lasso_coef.columns = X_trainFS.columns\n",
    "lasso_coef = lasso_coef.T.sort_values(by=0).T\n",
    "lasso_coef.plot(kind='bar', title='Modal Coefficients', legend=True, figsize=(16,18))"
   ]
  },
  {
   "cell_type": "code",
   "execution_count": 83,
   "metadata": {},
   "outputs": [
    {
     "data": {
      "text/html": [
       "<div>\n",
       "<style scoped>\n",
       "    .dataframe tbody tr th:only-of-type {\n",
       "        vertical-align: middle;\n",
       "    }\n",
       "\n",
       "    .dataframe tbody tr th {\n",
       "        vertical-align: top;\n",
       "    }\n",
       "\n",
       "    .dataframe thead th {\n",
       "        text-align: right;\n",
       "    }\n",
       "</style>\n",
       "<table border=\"1\" class=\"dataframe\">\n",
       "  <thead>\n",
       "    <tr style=\"text-align: right;\">\n",
       "      <th></th>\n",
       "      <th>0</th>\n",
       "    </tr>\n",
       "  </thead>\n",
       "  <tbody>\n",
       "    <tr>\n",
       "      <th>Subject_Perceived_Race_Hispanic</th>\n",
       "      <td>-0.602854</td>\n",
       "    </tr>\n",
       "    <tr>\n",
       "      <th>Officer_Race_Not Specified</th>\n",
       "      <td>-0.514430</td>\n",
       "    </tr>\n",
       "    <tr>\n",
       "      <th>Subject_Perceived_Race_Multi-Racial</th>\n",
       "      <td>-0.482995</td>\n",
       "    </tr>\n",
       "    <tr>\n",
       "      <th>Subject_Age_Group_1 - 17</th>\n",
       "      <td>-0.455502</td>\n",
       "    </tr>\n",
       "    <tr>\n",
       "      <th>Officer_Race_Black or African American</th>\n",
       "      <td>-0.410408</td>\n",
       "    </tr>\n",
       "    <tr>\n",
       "      <th>Officer_Race_Nat Hawaiian/Oth Pac Islander</th>\n",
       "      <td>-0.331783</td>\n",
       "    </tr>\n",
       "    <tr>\n",
       "      <th>Subject_Perceived_Gender_N</th>\n",
       "      <td>-0.320475</td>\n",
       "    </tr>\n",
       "    <tr>\n",
       "      <th>Subject_Perceived_Race_Asian</th>\n",
       "      <td>-0.318351</td>\n",
       "    </tr>\n",
       "    <tr>\n",
       "      <th>Officer_Race_Hispanic or Latino</th>\n",
       "      <td>-0.302680</td>\n",
       "    </tr>\n",
       "    <tr>\n",
       "      <th>Officer_Race_Asian</th>\n",
       "      <td>-0.297190</td>\n",
       "    </tr>\n",
       "    <tr>\n",
       "      <th>Officer_Race_White</th>\n",
       "      <td>-0.295362</td>\n",
       "    </tr>\n",
       "    <tr>\n",
       "      <th>Officer_Race_Two or More Races</th>\n",
       "      <td>-0.288914</td>\n",
       "    </tr>\n",
       "    <tr>\n",
       "      <th>Subject_Perceived_Race_Unknown</th>\n",
       "      <td>-0.277254</td>\n",
       "    </tr>\n",
       "    <tr>\n",
       "      <th>Subject_Age_Group_18 - 25</th>\n",
       "      <td>-0.246678</td>\n",
       "    </tr>\n",
       "    <tr>\n",
       "      <th>Subject_Age_Group_56 and Above</th>\n",
       "      <td>-0.221680</td>\n",
       "    </tr>\n",
       "    <tr>\n",
       "      <th>Subject_Perceived_Race_White</th>\n",
       "      <td>-0.220104</td>\n",
       "    </tr>\n",
       "    <tr>\n",
       "      <th>Subject_Age_Group_46 - 55</th>\n",
       "      <td>-0.209637</td>\n",
       "    </tr>\n",
       "    <tr>\n",
       "      <th>Subject_Perceived_Race_Black or African American</th>\n",
       "      <td>-0.184311</td>\n",
       "    </tr>\n",
       "    <tr>\n",
       "      <th>Subject_Age_Group_26 - 35</th>\n",
       "      <td>-0.157946</td>\n",
       "    </tr>\n",
       "    <tr>\n",
       "      <th>Subject_Age_Group_36 - 45</th>\n",
       "      <td>-0.147247</td>\n",
       "    </tr>\n",
       "    <tr>\n",
       "      <th>Officer_Gender_M</th>\n",
       "      <td>-0.033256</td>\n",
       "    </tr>\n",
       "    <tr>\n",
       "      <th>Officer_Age</th>\n",
       "      <td>-0.007551</td>\n",
       "    </tr>\n",
       "    <tr>\n",
       "      <th>Subject_Perceived_Race_Native Hawaiian or Other Pacific Islander</th>\n",
       "      <td>-0.000000</td>\n",
       "    </tr>\n",
       "    <tr>\n",
       "      <th>Subject_Perceived_Gender_M</th>\n",
       "      <td>0.000000</td>\n",
       "    </tr>\n",
       "    <tr>\n",
       "      <th>Was_Weapon_Reported_Weapon Reported</th>\n",
       "      <td>0.004548</td>\n",
       "    </tr>\n",
       "    <tr>\n",
       "      <th>Frisk_Flag</th>\n",
       "      <td>0.039821</td>\n",
       "    </tr>\n",
       "  </tbody>\n",
       "</table>\n",
       "</div>"
      ],
      "text/plain": [
       "                                                           0\n",
       "Subject_Perceived_Race_Hispanic                    -0.602854\n",
       "Officer_Race_Not Specified                         -0.514430\n",
       "Subject_Perceived_Race_Multi-Racial                -0.482995\n",
       "Subject_Age_Group_1 - 17                           -0.455502\n",
       "Officer_Race_Black or African American             -0.410408\n",
       "Officer_Race_Nat Hawaiian/Oth Pac Islander         -0.331783\n",
       "Subject_Perceived_Gender_N                         -0.320475\n",
       "Subject_Perceived_Race_Asian                       -0.318351\n",
       "Officer_Race_Hispanic or Latino                    -0.302680\n",
       "Officer_Race_Asian                                 -0.297190\n",
       "Officer_Race_White                                 -0.295362\n",
       "Officer_Race_Two or More Races                     -0.288914\n",
       "Subject_Perceived_Race_Unknown                     -0.277254\n",
       "Subject_Age_Group_18 - 25                          -0.246678\n",
       "Subject_Age_Group_56 and Above                     -0.221680\n",
       "Subject_Perceived_Race_White                       -0.220104\n",
       "Subject_Age_Group_46 - 55                          -0.209637\n",
       "Subject_Perceived_Race_Black or African American   -0.184311\n",
       "Subject_Age_Group_26 - 35                          -0.157946\n",
       "Subject_Age_Group_36 - 45                          -0.147247\n",
       "Officer_Gender_M                                   -0.033256\n",
       "Officer_Age                                        -0.007551\n",
       "Subject_Perceived_Race_Native Hawaiian or Other... -0.000000\n",
       "Subject_Perceived_Gender_M                          0.000000\n",
       "Was_Weapon_Reported_Weapon Reported                 0.004548\n",
       "Frisk_Flag                                          0.039821"
      ]
     },
     "execution_count": 83,
     "metadata": {},
     "output_type": "execute_result"
    }
   ],
   "source": [
    "lasso_coef.T"
   ]
  },
  {
   "cell_type": "code",
   "execution_count": 82,
   "metadata": {},
   "outputs": [],
   "source": [
    "#adjust? explain? thoughts?"
   ]
  },
  {
   "cell_type": "code",
   "execution_count": null,
   "metadata": {},
   "outputs": [],
   "source": []
  },
  {
   "cell_type": "code",
   "execution_count": null,
   "metadata": {},
   "outputs": [],
   "source": []
  },
  {
   "cell_type": "code",
   "execution_count": null,
   "metadata": {},
   "outputs": [],
   "source": []
  },
  {
   "cell_type": "markdown",
   "metadata": {},
   "source": [
    "Now we test various models. \n",
    "\n",
    "#talk about evaluation scores! list all, choose most important\n",
    "\n",
    "#using f1 but looking at all\n",
    "\n",
    "In this analysis, we will test Logistic Regression, KNN, Decision Trees, Random Forest, and XGBoost"
   ]
  },
  {
   "cell_type": "code",
   "execution_count": 81,
   "metadata": {},
   "outputs": [
    {
     "name": "stdout",
     "output_type": "stream",
     "text": [
      "Test F1 Score:  0.18144400617389814\n",
      "Test Accuracy Score:  0.6338881644550126\n"
     ]
    },
    {
     "name": "stderr",
     "output_type": "stream",
     "text": [
      "C:\\Users\\shade\\anaconda3\\envs\\learn-env\\lib\\site-packages\\sklearn\\linear_model\\_logistic.py:762: ConvergenceWarning: lbfgs failed to converge (status=1):\n",
      "STOP: TOTAL NO. of ITERATIONS REACHED LIMIT.\n",
      "\n",
      "Increase the number of iterations (max_iter) or scale the data as shown in:\n",
      "    https://scikit-learn.org/stable/modules/preprocessing.html\n",
      "Please also refer to the documentation for alternative solver options:\n",
      "    https://scikit-learn.org/stable/modules/linear_model.html#logistic-regression\n",
      "  n_iter_i = _check_optimize_result(\n"
     ]
    }
   ],
   "source": [
    "logreg = LogisticRegression()\n",
    "logreg.fit(X_train, y_train)\n",
    "pred = logreg.predict(X_test)\n",
    "\n",
    "log_f1 = metrics.f1_score(y_test, pred)\n",
    "log_acc = metrics.accuracy_score(y_test, pred)\n",
    "\n",
    "print('Test F1 Score: ', log_f1)\n",
    "print('Test Accuracy Score: ', log_acc)"
   ]
  },
  {
   "cell_type": "code",
   "execution_count": 30,
   "metadata": {},
   "outputs": [
    {
     "name": "stdout",
     "output_type": "stream",
     "text": [
      "Test F1 Score:  0.17370483239007403\n",
      "Test Accuracy Score:  0.7088287182634042\n"
     ]
    }
   ],
   "source": [
    "knn = KNeighborsClassifier()\n",
    "knn.fit(X_train, y_train)\n",
    "pred = knn.predict(X_test)\n",
    "\n",
    "knn_f1 = metrics.f1_score(y_test, pred)\n",
    "knn_acc = metrics.accuracy_score(y_test, pred)\n",
    "\n",
    "print('Test F1 Score: ', knn_f1)\n",
    "print('Test Accuracy Score: ', knn_acc)"
   ]
  },
  {
   "cell_type": "code",
   "execution_count": 14,
   "metadata": {},
   "outputs": [
    {
     "name": "stdout",
     "output_type": "stream",
     "text": [
      "Test F1 Score:  0.18955175046351838\n",
      "Test Accuracy Score:  0.4300069034287029\n"
     ]
    }
   ],
   "source": [
    "dtree = DecisionTreeClassifier(max_depth=3)\n",
    "dtree.fit(X_train, y_train)\n",
    "pred = dtree.predict(X_test)\n",
    "\n",
    "dtree_f1 = metrics.f1_score(y_test, pred)\n",
    "dtree_acc = metrics.accuracy_score(y_test, pred)\n",
    "\n",
    "print('Test F1 Score: ', dtree_f1)\n",
    "print('Test Accuracy Score: ', dtree_acc)"
   ]
  },
  {
   "cell_type": "code",
   "execution_count": 15,
   "metadata": {},
   "outputs": [
    {
     "name": "stdout",
     "output_type": "stream",
     "text": [
      "Test F1 Score:  0.19961380642046828\n",
      "Test Accuracy Score:  0.4912940093579811\n"
     ]
    }
   ],
   "source": [
    "forest = RandomForestClassifier(max_depth=3)\n",
    "forest.fit(X_train, y_train)\n",
    "pred = forest.predict(X_test)\n",
    "\n",
    "forest_f1 = metrics.f1_score(y_test, pred)\n",
    "forest_acc = metrics.accuracy_score(y_test, pred)\n",
    "\n",
    "print('Test F1 Score: ', forest_f1)\n",
    "print('Test Accuracy Score: ', forest_acc)"
   ]
  },
  {
   "cell_type": "code",
   "execution_count": 18,
   "metadata": {},
   "outputs": [
    {
     "name": "stdout",
     "output_type": "stream",
     "text": [
      "Test F1 Score:  0.19144385026737967\n",
      "Test Accuracy Score:  0.6520671933727085\n"
     ]
    }
   ],
   "source": [
    "xgb = XGBClassifier()\n",
    "xgb.fit(X_train, y_train)\n",
    "pred = xgb.predict(X_test)\n",
    "\n",
    "xgb_f1 = metrics.f1_score(y_test, pred)\n",
    "xgb_acc = metrics.accuracy_score(y_test, pred)\n",
    "\n",
    "print('Test F1 Score: ', xgb_f1)\n",
    "print('Test Accuracy Score: ', xgb_acc)"
   ]
  },
  {
   "cell_type": "code",
   "execution_count": null,
   "metadata": {},
   "outputs": [],
   "source": []
  },
  {
   "cell_type": "code",
   "execution_count": null,
   "metadata": {},
   "outputs": [],
   "source": []
  },
  {
   "cell_type": "code",
   "execution_count": null,
   "metadata": {},
   "outputs": [],
   "source": []
  },
  {
   "cell_type": "code",
   "execution_count": null,
   "metadata": {},
   "outputs": [],
   "source": []
  },
  {
   "cell_type": "code",
   "execution_count": null,
   "metadata": {},
   "outputs": [],
   "source": []
  },
  {
   "cell_type": "code",
   "execution_count": null,
   "metadata": {},
   "outputs": [],
   "source": []
  },
  {
   "cell_type": "markdown",
   "metadata": {},
   "source": [
    "Now we run our data through a model pipeline."
   ]
  },
  {
   "cell_type": "code",
   "execution_count": null,
   "metadata": {},
   "outputs": [],
   "source": []
  },
  {
   "cell_type": "markdown",
   "metadata": {},
   "source": [
    "param1 = {}\n",
    "param1['classifier__n_estimators'] = [10, 50, 100, 250]\n",
    "param1['classifier__max_depth'] = [5, 10, 20]\n",
    "param1['classifier__class_weight'] = [None, {0:1,1:5}, {0:1,1:10}, {0:1,1:25}]\n",
    "param1['classifier'] = [clf1]\n",
    "\n",
    "param2 = {}\n",
    "param2['classifier__C'] = [10**-2, 10**-1, 10**0, 10**1, 10**2]\n",
    "param2['classifier__class_weight'] = [None, {0:1,1:5}, {0:1,1:10}, {0:1,1:25}]\n",
    "param2['classifier'] = [clf2]\n",
    "\n",
    "param3 = {}\n",
    "param3['classifier__C'] = [10**-2, 10**-1, 10**0, 10**1, 10**2]\n",
    "param3['classifier__penalty'] = ['l1', 'l2']\n",
    "param3['classifier__class_weight'] = [None, {0:1,1:5}, {0:1,1:10}, {0:1,1:25}]\n",
    "param3['classifier'] = [clf3]\n",
    "\n",
    "param4 = {}\n",
    "param4['classifier__max_depth'] = [5,10,25,None]\n",
    "param4['classifier__min_samples_split'] = [2,5,10]\n",
    "param4['classifier__class_weight'] = [None, {0:1,1:5}, {0:1,1:10}, {0:1,1:25}]\n",
    "param4['classifier'] = [clf4]\n",
    "\n",
    "param5 = {}\n",
    "param5['classifier__n_neighbors'] = [2,5,10,25,50]\n",
    "param5['classifier'] = [clf5]\n",
    "\n",
    "param6 = {}\n",
    "param6['classifier__alpha'] = [10**0, 10**1, 10**2]\n",
    "param6['classifier'] = [clf6]\n",
    "\n",
    "param7 = {}\n",
    "param7['classifier__n_estimators'] = [10, 50, 100, 250]\n",
    "param7['classifier__max_depth'] = [5, 10, 20]\n",
    "param7['classifier'] = [clf7]"
   ]
  },
  {
   "cell_type": "markdown",
   "metadata": {},
   "source": [
    "pipeline = Pipeline([('classifier', clf1)])\n",
    "params = [param1, param2, param3, param4, param5, param6, param7]"
   ]
  },
  {
   "cell_type": "code",
   "execution_count": null,
   "metadata": {},
   "outputs": [],
   "source": []
  },
  {
   "cell_type": "code",
   "execution_count": 6,
   "metadata": {},
   "outputs": [
    {
     "name": "stdout",
     "output_type": "stream",
     "text": [
      "Fitting 5 folds for each of 46 candidates, totalling 230 fits\n"
     ]
    },
    {
     "name": "stderr",
     "output_type": "stream",
     "text": [
      "[Parallel(n_jobs=-1)]: Using backend LokyBackend with 8 concurrent workers.\n",
      "[Parallel(n_jobs=-1)]: Done  34 tasks      | elapsed:    9.3s\n",
      "[Parallel(n_jobs=-1)]: Done 184 tasks      | elapsed:  1.5min\n",
      "[Parallel(n_jobs=-1)]: Done 230 out of 230 | elapsed:  2.6min finished\n"
     ]
    },
    {
     "data": {
      "text/plain": [
       "GridSearchCV(cv=5,\n",
       "             estimator=Pipeline(steps=[('sm',\n",
       "                                        SMOTE(random_state=5,\n",
       "                                              sampling_strategy='not '\n",
       "                                                                'majority')),\n",
       "                                       ('scale', StandardScaler()),\n",
       "                                       ('clf', LogisticRegression())]),\n",
       "             n_jobs=-1,\n",
       "             param_grid=[{'clf': [LogisticRegression(random_state=5)],\n",
       "                          'clf__C': array([1.00000000e-05, 2.78255940e-04, 7.74263683e-03, 2.15443469e-01,\n",
       "       5.99484250e+00, 1.66810054e+02, 4.64158883e+03, 1.29154967e+05,\n",
       "       3.59381366e+06, 1.00000000e+08]),\n",
       "                          'clf__solver': ['lbfgs']},\n",
       "                         {'clf': [RandomForestClassifier(n_estimators=140,\n",
       "                                                         random_state=5)],\n",
       "                          'clf__max_depth': [4, 3, None],\n",
       "                          'clf__max_features': ['auto', 2, 4],\n",
       "                          'clf__n_estimators': [50, 100, 120, 140]}],\n",
       "             verbose=True)"
      ]
     },
     "execution_count": 6,
     "metadata": {},
     "output_type": "execute_result"
    }
   ],
   "source": [
    "#split the data to test & training sets\n",
    "X_train, X_test, y_train, y_test = train_test_split(X, y, test_size = 0.2, \n",
    "                                                    random_state = 5, stratify = y)\n",
    "\n",
    "#build the pipline with upsampling & scaling the data\n",
    "pipeline = imbpipeline([('sm', SMOTE(random_state = 5,\n",
    "                                     sampling_strategy = 'not majority')),\n",
    "               ('scale', StandardScaler()),\n",
    "               ('clf', LogisticRegression())\n",
    "              ])\n",
    "\n",
    "#paramters for tuning\n",
    "parameters = [\n",
    "    {'clf' : [ LogisticRegression(random_state = 5)],\n",
    "    'clf__C' : np.logspace(-5, 8, 10),\n",
    "    'clf__solver' : ['lbfgs']},\n",
    "    {'clf' : [ RandomForestClassifier(random_state = 5)],\n",
    "    'clf__max_depth':[4, 3, None],\n",
    "    'clf__n_estimators' : [50,100, 120, 140],\n",
    "    'clf__max_features' : ['auto', 2, 4]},\n",
    "]\n",
    "\n",
    "#create the grid search object\n",
    "cv = GridSearchCV(pipeline,\n",
    "                  param_grid=parameters,\n",
    "                  refit = True,\n",
    "                  cv = 5, \n",
    "                  verbose = True,\n",
    "                  n_jobs = -1)\n",
    "\n",
    "#fit the data\n",
    "cv.fit(X_train, y_train)"
   ]
  },
  {
   "cell_type": "code",
   "execution_count": 7,
   "metadata": {},
   "outputs": [
    {
     "data": {
      "text/plain": [
       "{'clf': RandomForestClassifier(n_estimators=140, random_state=5),\n",
       " 'clf__max_depth': None,\n",
       " 'clf__max_features': 'auto',\n",
       " 'clf__n_estimators': 140}"
      ]
     },
     "execution_count": 7,
     "metadata": {},
     "output_type": "execute_result"
    }
   ],
   "source": [
    "cv.best_params_"
   ]
  },
  {
   "cell_type": "code",
   "execution_count": 8,
   "metadata": {},
   "outputs": [],
   "source": [
    "#predict on the test set\n",
    "y_pred = cv.predict(X_test)\n",
    "\n",
    "#capture the prediction probabilities\n",
    "y_predict_proba = cv.predict_proba(X_test)[:,1]"
   ]
  },
  {
   "cell_type": "code",
   "execution_count": 11,
   "metadata": {},
   "outputs": [
    {
     "name": "stdout",
     "output_type": "stream",
     "text": [
      "The accuracy score is: 0.6895758226585871\n",
      "[[8534 3321]\n",
      " [ 726  456]]\n"
     ]
    }
   ],
   "source": [
    "#scoring metrics\n",
    "acc_score = cv.score(X_test, y_test)\n",
    "\n",
    "print('The accuracy score is: {}'.format(acc_score))\n",
    "\n",
    "\n",
    "#print the confusion matrix and classification report from the best model\n",
    "print(confusion_matrix(y_test, y_pred))"
   ]
  },
  {
   "cell_type": "code",
   "execution_count": 12,
   "metadata": {},
   "outputs": [
    {
     "data": {
      "image/png": "[encoded data removed]",
      "text/plain": [
       "<Figure size 432x288 with 1 Axes>"
      ]
     },
     "metadata": {
      "needs_background": "light"
     },
     "output_type": "display_data"
    }
   ],
   "source": [
    "# Generate ROC curve values fpr, tpr, thresholds\n",
    "fpr, tpr, thresholds = roc_curve(y_test, y_predict_proba)\n",
    "\n",
    "# Plot ROC curve\n",
    "_=plt.plot([0, 1], [0, 1], 'k--')\n",
    "_=plt.plot(fpr, tpr)\n",
    "_=plt.xlabel('False Positive Rate')\n",
    "_=plt.ylabel('True Positive Rate')\n",
    "_=plt.title('ROC Curve')\n",
    "plt.show()"
   ]
  },
  {
   "cell_type": "code",
   "execution_count": null,
   "metadata": {},
   "outputs": [],
   "source": []
  }
 ],
 "metadata": {
  "kernelspec": {
   "display_name": "Python 3",
   "language": "python",
   "name": "python3"
  },
  "language_info": {
   "codemirror_mode": {
    "name": "ipython",
    "version": 3
   },
   "file_extension": ".py",
   "mimetype": "text/x-python",
   "name": "python",
   "nbconvert_exporter": "python",
   "pygments_lexer": "ipython3",
   "version": "3.8.5"
  }
 },
 "nbformat": 4,
 "nbformat_minor": 5
}
